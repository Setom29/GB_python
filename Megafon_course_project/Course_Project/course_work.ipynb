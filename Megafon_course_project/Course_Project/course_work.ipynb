{
 "cells": [
  {
   "cell_type": "code",
   "execution_count": 1,
   "id": "be161ccc",
   "metadata": {},
   "outputs": [],
   "source": [
    "import pandas as pd\n",
    "import dask.dataframe as dd\n",
    "\n",
    "import numpy as np\n",
    "\n",
    "import matplotlib.pyplot as plt\n",
    "import seaborn as sns\n",
    "%matplotlib inline\n",
    "\n",
    "from sklearn.metrics import confusion_matrix, f1_score, precision_recall_curve, classification_report  # (average=’macro’)\n",
    "from sklearn.model_selection import GridSearchCV, train_test_split, KFold, RandomizedSearchCV\n",
    "from sklearn.pipeline import Pipeline\n",
    "from sklearn.model_selection import train_test_split, KFold, cross_validate\n",
    "\n",
    "from sklearn.linear_model import LogisticRegression\n",
    "from sklearn.ensemble import RandomForestClassifier\n",
    "from sklearn.preprocessing import StandardScaler\n",
    "\n",
    "from sklearn.neighbors import KNeighborsClassifier\n",
    "\n",
    "from sklearn.decomposition import PCA\n",
    "\n",
    "from sklearn.base import BaseEstimator, TransformerMixin\n",
    "\n",
    "from sklearn.ensemble import GradientBoostingClassifier\n",
    "from catboost import CatBoostClassifier\n",
    "\n",
    "import warnings\n",
    "warnings.filterwarnings(\"ignore\")\n",
    "\n",
    "import datetime\n",
    "import itertools\n",
    "\n",
    "import pickle"
   ]
  },
  {
   "cell_type": "code",
   "execution_count": 2,
   "id": "019d3ab8",
   "metadata": {},
   "outputs": [],
   "source": [
    "def run_cv(estimator, cv, X, y, scoring='f1_macro', model_name=''):\n",
    "    cv_res = cross_validate(estimator, X, y, cv=cv, scoring=scoring, n_jobs=-1)\n",
    "    print(\"%s: %s = %0.2f (+/- %0.2f)\" % (model_name,\n",
    "                                          scoring,\n",
    "                                          cv_res['test_score'].mean(),\n",
    "                                          cv_res['test_score'].std() * 2))"
   ]
  },
  {
   "cell_type": "code",
   "execution_count": 3,
   "id": "2439c016",
   "metadata": {},
   "outputs": [],
   "source": [
    "def plot_confusion_matrix(cm, classes, model_name=\"\", normalize=False, cmap=plt.cm.Blues):\n",
    "    if normalize:\n",
    "        cm = cm.astype('float') / cm.sum(axis=1)[:, np.newaxis]\n",
    "        print(\"Normalized confusion matrix\")\n",
    "    else:\n",
    "        print('Confusion matrix, without normalization')\n",
    "\n",
    "    print(cm)\n",
    "\n",
    "    plt.imshow(cm, interpolation='nearest',  cmap=cmap)\n",
    "    \n",
    "    plt.grid(False)\n",
    "    plt.title('%s: confusion matrix' % model_name)\n",
    "    tick_marks = np.arange(len(classes))\n",
    "    plt.xticks(tick_marks, classes, rotation=45)\n",
    "    plt.yticks(tick_marks, classes)\n",
    "\n",
    "    fmt = '.2f' if normalize else 'd'\n",
    "    thresh = cm.max() / 2.\n",
    "    for i, j in itertools.product(range(cm.shape[0]), range(cm.shape[1])):\n",
    "        plt.text(j, i, format(cm[i, j], fmt),\n",
    "                 horizontalalignment=\"center\",\n",
    "                 color=\"white\" if cm[i, j] > thresh else \"black\")\n",
    "\n",
    "    plt.ylabel('True label')\n",
    "    plt.xlabel('Predicted label')\n",
    "    plt.tight_layout()"
   ]
  },
  {
   "cell_type": "code",
   "execution_count": 4,
   "id": "6eeaea76",
   "metadata": {},
   "outputs": [],
   "source": [
    "class DataPreparation(BaseEstimator, TransformerMixin):\n",
    "    def __init__(self, data, features):\n",
    "        self.data = data\n",
    "        self.features = features\n",
    "\n",
    "    def fit(self, X, y=None):\n",
    "        return self\n",
    "\n",
    "    def transform(self, X, y=None):\n",
    "        data_features = pd.merge(self.data, self.features, how='left', on=['id'])\n",
    "\n",
    "        data_features = data_features.sort_values(by=['id', 'buy_time_y'], ascending=False).drop_duplicates(subset=['id', 'vas_id', 'buy_time_x'])\n",
    "        return data_features"
   ]
  },
  {
   "cell_type": "code",
   "execution_count": 53,
   "id": "11ddc4c2",
   "metadata": {},
   "outputs": [],
   "source": [
    "class ColumnSelector(BaseEstimator, TransformerMixin):\n",
    "    def __init__(self, columns):\n",
    "        self.columns = columns\n",
    "\n",
    "    def fit(self, X, y=None):\n",
    "        return self\n",
    "    \n",
    "    def transform(self, X):\n",
    "        assert isinstance(X, pd.DataFrame)\n",
    "\n",
    "        try:\n",
    "            return X[self.columns]\n",
    "        except KeyError:\n",
    "            cols_error = list(set(self.columns) - set(X.columns))\n",
    "            raise KeyError(\" %s\" % cols_error)"
   ]
  },
  {
   "cell_type": "markdown",
   "id": "73deb016",
   "metadata": {},
   "source": [
    "### Read data"
   ]
  },
  {
   "cell_type": "code",
   "execution_count": 5,
   "id": "cceba1f0",
   "metadata": {},
   "outputs": [],
   "source": [
    "data_train = pd.read_csv('../data/data_train.csv')\n",
    "data_train.name = 'train'\n",
    "data_test = pd.read_csv('../data/data_test.csv')\n",
    "data_test.name = 'test'"
   ]
  },
  {
   "cell_type": "code",
   "execution_count": 6,
   "id": "b3125177",
   "metadata": {},
   "outputs": [
    {
     "name": "stdout",
     "output_type": "stream",
     "text": [
      "CPU times: total: 1min 56s\n",
      "Wall time: 3min 45s\n"
     ]
    }
   ],
   "source": [
    "%%time\n",
    "data_features = pd.read_csv('../data/features.csv', sep='\\t')\n",
    "data_features.name = 'features'"
   ]
  },
  {
   "cell_type": "markdown",
   "id": "9168309f",
   "metadata": {},
   "source": [
    "### Explore datasets"
   ]
  },
  {
   "cell_type": "code",
   "execution_count": 7,
   "id": "40aec1e9",
   "metadata": {},
   "outputs": [
    {
     "name": "stdout",
     "output_type": "stream",
     "text": [
      "Num of duplicates in train: 0\n",
      "Num of duplicates in test: 0\n",
      "Num of duplicates in features: 0\n"
     ]
    }
   ],
   "source": [
    "# duplicates\n",
    "for dataset in [data_train, data_test, data_features]:\n",
    "    print(f'Num of duplicates in {dataset.name}: {dataset.duplicated().sum()}')"
   ]
  },
  {
   "cell_type": "code",
   "execution_count": 8,
   "id": "a1b002c2",
   "metadata": {},
   "outputs": [
    {
     "name": "stdout",
     "output_type": "stream",
     "text": [
      "Null values in train: 0\n",
      "Null values in test: 0\n",
      "Null values in features: 0\n"
     ]
    }
   ],
   "source": [
    "# null values\n",
    "for dataset in [data_train, data_test, data_features]:\n",
    "    print(f'Null values in {dataset.name}: {(dataset.isnull().sum()).sum()}')"
   ]
  },
  {
   "cell_type": "code",
   "execution_count": 9,
   "id": "cd4bbb7c",
   "metadata": {},
   "outputs": [
    {
     "data": {
      "text/plain": [
       "0.0    0.927631\n",
       "1.0    0.072369\n",
       "Name: target, dtype: float64"
      ]
     },
     "execution_count": 9,
     "metadata": {},
     "output_type": "execute_result"
    }
   ],
   "source": [
    "# distribution of the target variable\n",
    "data_train.target.value_counts() / data_train.target.shape"
   ]
  },
  {
   "cell_type": "markdown",
   "id": "fc89d2a4",
   "metadata": {},
   "source": [
    "Сlasses are disbalanced."
   ]
  },
  {
   "cell_type": "code",
   "execution_count": 10,
   "id": "164f8e1e",
   "metadata": {},
   "outputs": [],
   "source": [
    "# drop \"Unnamed: ...\" columns\n",
    "for dataset in [data_train, data_test, data_features]:\n",
    "    dataset.drop('Unnamed: 0', axis=1, inplace=True)"
   ]
  },
  {
   "cell_type": "markdown",
   "id": "4b37105a",
   "metadata": {},
   "source": [
    "### Features"
   ]
  },
  {
   "cell_type": "code",
   "execution_count": 11,
   "id": "7b1c095d",
   "metadata": {},
   "outputs": [
    {
     "data": {
      "text/plain": [
       "(253,)"
      ]
     },
     "execution_count": 11,
     "metadata": {},
     "output_type": "execute_result"
    }
   ],
   "source": [
    "f_unique = data_features.drop(['id', 'buy_time'], axis=1).apply(lambda x: x.nunique(dropna=False))\n",
    "f_unique.shape"
   ]
  },
  {
   "cell_type": "code",
   "execution_count": 12,
   "id": "9d6ca4d5",
   "metadata": {},
   "outputs": [
    {
     "data": {
      "text/plain": [
       "253"
      ]
     },
     "execution_count": 12,
     "metadata": {},
     "output_type": "execute_result"
    }
   ],
   "source": [
    "# All\n",
    "f_all = set(f_unique.index.tolist())\n",
    "len(f_all)"
   ]
  },
  {
   "cell_type": "code",
   "execution_count": 13,
   "id": "1157179c",
   "metadata": {
    "scrolled": true
   },
   "outputs": [
    {
     "name": "stdout",
     "output_type": "stream",
     "text": [
      "{'139', '75', '81', '85', '203'}\n"
     ]
    }
   ],
   "source": [
    "# Const\n",
    "f_const = set(f_unique[f_unique == 1].index.tolist())\n",
    "print(f_const)"
   ]
  },
  {
   "cell_type": "code",
   "execution_count": 14,
   "id": "a052ef05",
   "metadata": {},
   "outputs": [
    {
     "data": {
      "text/plain": [
       "247"
      ]
     },
     "execution_count": 14,
     "metadata": {},
     "output_type": "execute_result"
    }
   ],
   "source": [
    "# Numeric\n",
    "f_num = (data_features.fillna(0).astype(int).sum() - data_features.fillna(0).sum()).abs()\n",
    "f_num = set(f_num[f_num > 0].index.tolist())\n",
    "len(f_num)"
   ]
  },
  {
   "cell_type": "code",
   "execution_count": 15,
   "id": "d5c33227",
   "metadata": {},
   "outputs": [
    {
     "data": {
      "text/plain": [
       "{'252'}"
      ]
     },
     "execution_count": 15,
     "metadata": {},
     "output_type": "execute_result"
    }
   ],
   "source": [
    "# other\n",
    "f_other = f_all - (f_num | f_const)\n",
    "f_other"
   ]
  },
  {
   "cell_type": "code",
   "execution_count": 16,
   "id": "7448ce4e",
   "metadata": {},
   "outputs": [
    {
     "data": {
      "text/plain": [
       "{'252'}"
      ]
     },
     "execution_count": 16,
     "metadata": {},
     "output_type": "execute_result"
    }
   ],
   "source": [
    "# cat\n",
    "f_cat = set(f_unique.loc[f_other][f_unique.loc[f_other] <= 100].index.tolist())\n",
    "f_cat"
   ]
  },
  {
   "cell_type": "code",
   "execution_count": 17,
   "id": "6da72edd",
   "metadata": {},
   "outputs": [
    {
     "data": {
      "text/html": [
       "<div>\n",
       "<style scoped>\n",
       "    .dataframe tbody tr th:only-of-type {\n",
       "        vertical-align: middle;\n",
       "    }\n",
       "\n",
       "    .dataframe tbody tr th {\n",
       "        vertical-align: top;\n",
       "    }\n",
       "\n",
       "    .dataframe thead th {\n",
       "        text-align: right;\n",
       "    }\n",
       "</style>\n",
       "<table border=\"1\" class=\"dataframe\">\n",
       "  <thead>\n",
       "    <tr style=\"text-align: right;\">\n",
       "      <th></th>\n",
       "      <th>id</th>\n",
       "      <th>vas_id</th>\n",
       "      <th>buy_time_x</th>\n",
       "      <th>target</th>\n",
       "      <th>buy_time_y</th>\n",
       "      <th>0</th>\n",
       "      <th>1</th>\n",
       "      <th>2</th>\n",
       "      <th>3</th>\n",
       "      <th>4</th>\n",
       "      <th>...</th>\n",
       "      <th>243</th>\n",
       "      <th>244</th>\n",
       "      <th>245</th>\n",
       "      <th>246</th>\n",
       "      <th>247</th>\n",
       "      <th>248</th>\n",
       "      <th>249</th>\n",
       "      <th>250</th>\n",
       "      <th>251</th>\n",
       "      <th>252</th>\n",
       "    </tr>\n",
       "  </thead>\n",
       "  <tbody>\n",
       "    <tr>\n",
       "      <th>859753</th>\n",
       "      <td>4362694</td>\n",
       "      <td>2.0</td>\n",
       "      <td>1546203600</td>\n",
       "      <td>0.0</td>\n",
       "      <td>1531688400</td>\n",
       "      <td>-25.609971</td>\n",
       "      <td>-103.109112</td>\n",
       "      <td>-39.550786</td>\n",
       "      <td>-108.276798</td>\n",
       "      <td>-44.968246</td>\n",
       "      <td>...</td>\n",
       "      <td>12.626154</td>\n",
       "      <td>-613.770792</td>\n",
       "      <td>-23.996269</td>\n",
       "      <td>-37.630448</td>\n",
       "      <td>-238.747724</td>\n",
       "      <td>-25.832889</td>\n",
       "      <td>-0.694428</td>\n",
       "      <td>-12.175933</td>\n",
       "      <td>-0.45614</td>\n",
       "      <td>0.0</td>\n",
       "    </tr>\n",
       "    <tr>\n",
       "      <th>859601</th>\n",
       "      <td>4362684</td>\n",
       "      <td>5.0</td>\n",
       "      <td>1545598800</td>\n",
       "      <td>0.0</td>\n",
       "      <td>1538946000</td>\n",
       "      <td>-96.799971</td>\n",
       "      <td>-103.099112</td>\n",
       "      <td>-27.720786</td>\n",
       "      <td>34.053202</td>\n",
       "      <td>-33.138246</td>\n",
       "      <td>...</td>\n",
       "      <td>-598.373846</td>\n",
       "      <td>-283.770792</td>\n",
       "      <td>-22.996269</td>\n",
       "      <td>-34.630448</td>\n",
       "      <td>-208.747724</td>\n",
       "      <td>-10.832889</td>\n",
       "      <td>-0.694428</td>\n",
       "      <td>2.824067</td>\n",
       "      <td>-0.45614</td>\n",
       "      <td>1.0</td>\n",
       "    </tr>\n",
       "    <tr>\n",
       "      <th>858669</th>\n",
       "      <td>4362647</td>\n",
       "      <td>6.0</td>\n",
       "      <td>1546203600</td>\n",
       "      <td>0.0</td>\n",
       "      <td>1537736400</td>\n",
       "      <td>288.800029</td>\n",
       "      <td>-9.859112</td>\n",
       "      <td>363.839214</td>\n",
       "      <td>284.973202</td>\n",
       "      <td>358.421754</td>\n",
       "      <td>...</td>\n",
       "      <td>1351.626154</td>\n",
       "      <td>745.229208</td>\n",
       "      <td>-25.996269</td>\n",
       "      <td>-28.630448</td>\n",
       "      <td>26.252276</td>\n",
       "      <td>34.167111</td>\n",
       "      <td>-0.694428</td>\n",
       "      <td>47.824067</td>\n",
       "      <td>-0.45614</td>\n",
       "      <td>0.0</td>\n",
       "    </tr>\n",
       "    <tr>\n",
       "      <th>858582</th>\n",
       "      <td>4362640</td>\n",
       "      <td>2.0</td>\n",
       "      <td>1546203600</td>\n",
       "      <td>0.0</td>\n",
       "      <td>1546203600</td>\n",
       "      <td>-93.749971</td>\n",
       "      <td>-66.149112</td>\n",
       "      <td>-105.190786</td>\n",
       "      <td>-107.776798</td>\n",
       "      <td>-110.608246</td>\n",
       "      <td>...</td>\n",
       "      <td>-974.373846</td>\n",
       "      <td>-610.770792</td>\n",
       "      <td>-25.996269</td>\n",
       "      <td>-37.630448</td>\n",
       "      <td>-306.747724</td>\n",
       "      <td>-25.832889</td>\n",
       "      <td>-0.694428</td>\n",
       "      <td>-12.175933</td>\n",
       "      <td>-0.45614</td>\n",
       "      <td>1.0</td>\n",
       "    </tr>\n",
       "    <tr>\n",
       "      <th>858501</th>\n",
       "      <td>4362634</td>\n",
       "      <td>1.0</td>\n",
       "      <td>1546203600</td>\n",
       "      <td>0.0</td>\n",
       "      <td>1544994000</td>\n",
       "      <td>-96.799971</td>\n",
       "      <td>-77.679112</td>\n",
       "      <td>-110.740786</td>\n",
       "      <td>-130.286798</td>\n",
       "      <td>-116.158246</td>\n",
       "      <td>...</td>\n",
       "      <td>-26.373846</td>\n",
       "      <td>-613.770792</td>\n",
       "      <td>118.003731</td>\n",
       "      <td>98.369552</td>\n",
       "      <td>-219.747724</td>\n",
       "      <td>151.167111</td>\n",
       "      <td>-0.694428</td>\n",
       "      <td>-12.175933</td>\n",
       "      <td>-0.45614</td>\n",
       "      <td>0.0</td>\n",
       "    </tr>\n",
       "    <tr>\n",
       "      <th>...</th>\n",
       "      <td>...</td>\n",
       "      <td>...</td>\n",
       "      <td>...</td>\n",
       "      <td>...</td>\n",
       "      <td>...</td>\n",
       "      <td>...</td>\n",
       "      <td>...</td>\n",
       "      <td>...</td>\n",
       "      <td>...</td>\n",
       "      <td>...</td>\n",
       "      <td>...</td>\n",
       "      <td>...</td>\n",
       "      <td>...</td>\n",
       "      <td>...</td>\n",
       "      <td>...</td>\n",
       "      <td>...</td>\n",
       "      <td>...</td>\n",
       "      <td>...</td>\n",
       "      <td>...</td>\n",
       "      <td>...</td>\n",
       "      <td>...</td>\n",
       "    </tr>\n",
       "    <tr>\n",
       "      <th>935</th>\n",
       "      <td>29</td>\n",
       "      <td>1.0</td>\n",
       "      <td>1533502800</td>\n",
       "      <td>0.0</td>\n",
       "      <td>1532898000</td>\n",
       "      <td>-52.309971</td>\n",
       "      <td>-230.219112</td>\n",
       "      <td>-36.590786</td>\n",
       "      <td>-248.926798</td>\n",
       "      <td>-42.008246</td>\n",
       "      <td>...</td>\n",
       "      <td>-847.373846</td>\n",
       "      <td>-509.770792</td>\n",
       "      <td>-25.996269</td>\n",
       "      <td>-37.630448</td>\n",
       "      <td>-233.747724</td>\n",
       "      <td>-10.832889</td>\n",
       "      <td>-0.694428</td>\n",
       "      <td>2.824067</td>\n",
       "      <td>-0.45614</td>\n",
       "      <td>0.0</td>\n",
       "    </tr>\n",
       "    <tr>\n",
       "      <th>533</th>\n",
       "      <td>16</td>\n",
       "      <td>2.0</td>\n",
       "      <td>1540760400</td>\n",
       "      <td>0.0</td>\n",
       "      <td>1548018000</td>\n",
       "      <td>152.050029</td>\n",
       "      <td>257.220888</td>\n",
       "      <td>195.609214</td>\n",
       "      <td>267.113202</td>\n",
       "      <td>190.191754</td>\n",
       "      <td>...</td>\n",
       "      <td>3185.626154</td>\n",
       "      <td>-613.770792</td>\n",
       "      <td>-21.996269</td>\n",
       "      <td>-37.630448</td>\n",
       "      <td>-139.747724</td>\n",
       "      <td>-24.832889</td>\n",
       "      <td>-0.694428</td>\n",
       "      <td>-12.175933</td>\n",
       "      <td>-0.45614</td>\n",
       "      <td>0.0</td>\n",
       "    </tr>\n",
       "    <tr>\n",
       "      <th>519</th>\n",
       "      <td>15</td>\n",
       "      <td>1.0</td>\n",
       "      <td>1534107600</td>\n",
       "      <td>0.0</td>\n",
       "      <td>1531688400</td>\n",
       "      <td>260.810029</td>\n",
       "      <td>186.710888</td>\n",
       "      <td>249.409214</td>\n",
       "      <td>140.873202</td>\n",
       "      <td>243.991754</td>\n",
       "      <td>...</td>\n",
       "      <td>-381.373846</td>\n",
       "      <td>-613.770792</td>\n",
       "      <td>-24.996269</td>\n",
       "      <td>-31.630448</td>\n",
       "      <td>-212.747724</td>\n",
       "      <td>108.167111</td>\n",
       "      <td>-0.694428</td>\n",
       "      <td>107.824067</td>\n",
       "      <td>13.54386</td>\n",
       "      <td>1.0</td>\n",
       "    </tr>\n",
       "    <tr>\n",
       "      <th>223</th>\n",
       "      <td>4</td>\n",
       "      <td>1.0</td>\n",
       "      <td>1533502800</td>\n",
       "      <td>0.0</td>\n",
       "      <td>1538341200</td>\n",
       "      <td>-96.799971</td>\n",
       "      <td>-323.429112</td>\n",
       "      <td>-110.740786</td>\n",
       "      <td>-376.036798</td>\n",
       "      <td>-116.158246</td>\n",
       "      <td>...</td>\n",
       "      <td>4806.626154</td>\n",
       "      <td>4140.229208</td>\n",
       "      <td>-25.996269</td>\n",
       "      <td>-37.630448</td>\n",
       "      <td>-35.747724</td>\n",
       "      <td>-20.832889</td>\n",
       "      <td>-0.694428</td>\n",
       "      <td>-7.175933</td>\n",
       "      <td>-0.45614</td>\n",
       "      <td>0.0</td>\n",
       "    </tr>\n",
       "    <tr>\n",
       "      <th>121</th>\n",
       "      <td>2</td>\n",
       "      <td>2.0</td>\n",
       "      <td>1545598800</td>\n",
       "      <td>0.0</td>\n",
       "      <td>1545598800</td>\n",
       "      <td>-96.799971</td>\n",
       "      <td>229.530888</td>\n",
       "      <td>-110.740786</td>\n",
       "      <td>305.723202</td>\n",
       "      <td>-116.158246</td>\n",
       "      <td>...</td>\n",
       "      <td>2300.626154</td>\n",
       "      <td>1492.229208</td>\n",
       "      <td>-21.996269</td>\n",
       "      <td>-35.630448</td>\n",
       "      <td>368.252276</td>\n",
       "      <td>11.167111</td>\n",
       "      <td>7.305572</td>\n",
       "      <td>-12.175933</td>\n",
       "      <td>-0.45614</td>\n",
       "      <td>0.0</td>\n",
       "    </tr>\n",
       "  </tbody>\n",
       "</table>\n",
       "<p>831653 rows × 258 columns</p>\n",
       "</div>"
      ],
      "text/plain": [
       "             id  vas_id  buy_time_x  target  buy_time_y           0  \\\n",
       "859753  4362694     2.0  1546203600     0.0  1531688400  -25.609971   \n",
       "859601  4362684     5.0  1545598800     0.0  1538946000  -96.799971   \n",
       "858669  4362647     6.0  1546203600     0.0  1537736400  288.800029   \n",
       "858582  4362640     2.0  1546203600     0.0  1546203600  -93.749971   \n",
       "858501  4362634     1.0  1546203600     0.0  1544994000  -96.799971   \n",
       "...         ...     ...         ...     ...         ...         ...   \n",
       "935          29     1.0  1533502800     0.0  1532898000  -52.309971   \n",
       "533          16     2.0  1540760400     0.0  1548018000  152.050029   \n",
       "519          15     1.0  1534107600     0.0  1531688400  260.810029   \n",
       "223           4     1.0  1533502800     0.0  1538341200  -96.799971   \n",
       "121           2     2.0  1545598800     0.0  1545598800  -96.799971   \n",
       "\n",
       "                 1           2           3           4  ...          243  \\\n",
       "859753 -103.109112  -39.550786 -108.276798  -44.968246  ...    12.626154   \n",
       "859601 -103.099112  -27.720786   34.053202  -33.138246  ...  -598.373846   \n",
       "858669   -9.859112  363.839214  284.973202  358.421754  ...  1351.626154   \n",
       "858582  -66.149112 -105.190786 -107.776798 -110.608246  ...  -974.373846   \n",
       "858501  -77.679112 -110.740786 -130.286798 -116.158246  ...   -26.373846   \n",
       "...            ...         ...         ...         ...  ...          ...   \n",
       "935    -230.219112  -36.590786 -248.926798  -42.008246  ...  -847.373846   \n",
       "533     257.220888  195.609214  267.113202  190.191754  ...  3185.626154   \n",
       "519     186.710888  249.409214  140.873202  243.991754  ...  -381.373846   \n",
       "223    -323.429112 -110.740786 -376.036798 -116.158246  ...  4806.626154   \n",
       "121     229.530888 -110.740786  305.723202 -116.158246  ...  2300.626154   \n",
       "\n",
       "                244         245        246         247         248       249  \\\n",
       "859753  -613.770792  -23.996269 -37.630448 -238.747724  -25.832889 -0.694428   \n",
       "859601  -283.770792  -22.996269 -34.630448 -208.747724  -10.832889 -0.694428   \n",
       "858669   745.229208  -25.996269 -28.630448   26.252276   34.167111 -0.694428   \n",
       "858582  -610.770792  -25.996269 -37.630448 -306.747724  -25.832889 -0.694428   \n",
       "858501  -613.770792  118.003731  98.369552 -219.747724  151.167111 -0.694428   \n",
       "...             ...         ...        ...         ...         ...       ...   \n",
       "935     -509.770792  -25.996269 -37.630448 -233.747724  -10.832889 -0.694428   \n",
       "533     -613.770792  -21.996269 -37.630448 -139.747724  -24.832889 -0.694428   \n",
       "519     -613.770792  -24.996269 -31.630448 -212.747724  108.167111 -0.694428   \n",
       "223     4140.229208  -25.996269 -37.630448  -35.747724  -20.832889 -0.694428   \n",
       "121     1492.229208  -21.996269 -35.630448  368.252276   11.167111  7.305572   \n",
       "\n",
       "               250       251  252  \n",
       "859753  -12.175933  -0.45614  0.0  \n",
       "859601    2.824067  -0.45614  1.0  \n",
       "858669   47.824067  -0.45614  0.0  \n",
       "858582  -12.175933  -0.45614  1.0  \n",
       "858501  -12.175933  -0.45614  0.0  \n",
       "...            ...       ...  ...  \n",
       "935       2.824067  -0.45614  0.0  \n",
       "533     -12.175933  -0.45614  0.0  \n",
       "519     107.824067  13.54386  1.0  \n",
       "223      -7.175933  -0.45614  0.0  \n",
       "121     -12.175933  -0.45614  0.0  \n",
       "\n",
       "[831653 rows x 258 columns]"
      ]
     },
     "execution_count": 17,
     "metadata": {},
     "output_type": "execute_result"
    }
   ],
   "source": [
    "data_train_feat = pd.merge(data_train, data_features, how='left', on=['id'])\n",
    "data_train_feat = data_train_feat.sort_values(by=['id', 'buy_time_y'], ascending=False).drop_duplicates(subset=['id', 'vas_id', 'buy_time_x', 'target'])\n",
    "\n",
    "data_train_feat"
   ]
  },
  {
   "cell_type": "markdown",
   "id": "659fd741",
   "metadata": {},
   "source": [
    "### Split dataset into train and test subsets "
   ]
  },
  {
   "cell_type": "code",
   "execution_count": 18,
   "id": "6c1cd514",
   "metadata": {},
   "outputs": [],
   "source": [
    "data_train_feat.drop(f_const, axis=1, inplace=True)"
   ]
  },
  {
   "cell_type": "code",
   "execution_count": 19,
   "id": "845c5cb0",
   "metadata": {},
   "outputs": [],
   "source": [
    "X = data_train_feat.drop('target', axis=1)\n",
    "y = data_train_feat['target']"
   ]
  },
  {
   "cell_type": "code",
   "execution_count": 20,
   "id": "faec5ce2",
   "metadata": {},
   "outputs": [
    {
     "name": "stdout",
     "output_type": "stream",
     "text": [
      "Train\n",
      "0.0    0.927996\n",
      "1.0    0.072004\n",
      "Name: target, dtype: float64\n",
      "\n",
      "Test\n",
      "0.0    0.926537\n",
      "1.0    0.073463\n",
      "Name: target, dtype: float64\n"
     ]
    }
   ],
   "source": [
    "train_idx, test_idx = train_test_split(X.index, test_size=0.25, random_state=42)\n",
    "\n",
    "y_train, y_test = y.loc[train_idx], y.loc[test_idx]\n",
    "X_train, X_test = X.loc[train_idx], X.loc[test_idx]\n",
    "\n",
    "print(\"Train\")\n",
    "print(y.loc[train_idx].value_counts()/train_idx.shape[0])\n",
    "print()\n",
    "print(\"Test\")\n",
    "print(y.loc[test_idx].value_counts()/test_idx.shape[0])"
   ]
  },
  {
   "cell_type": "markdown",
   "id": "33f9eb46",
   "metadata": {},
   "source": [
    "### Baseline model"
   ]
  },
  {
   "cell_type": "code",
   "execution_count": 21,
   "id": "2225178c",
   "metadata": {},
   "outputs": [],
   "source": [
    "rf_model = RandomForestClassifier(n_estimators=100, max_depth=10, random_state=42, n_jobs=-1)\n",
    "kfold_cv = KFold(n_splits=5, shuffle=True, random_state=42)"
   ]
  },
  {
   "cell_type": "code",
   "execution_count": 22,
   "id": "ef283b39",
   "metadata": {},
   "outputs": [
    {
     "name": "stdout",
     "output_type": "stream",
     "text": [
      "Baseline Random Forest: f1_macro = 0.48 (+/- 0.00)\n",
      "CPU times: total: 906 ms\n",
      "Wall time: 5min 24s\n"
     ]
    }
   ],
   "source": [
    "%%time\n",
    "run_cv(rf_model, kfold_cv, X_train, y_train, model_name='Baseline Random Forest')"
   ]
  },
  {
   "cell_type": "code",
   "execution_count": 23,
   "id": "de8c494b",
   "metadata": {},
   "outputs": [],
   "source": [
    "rf_model.fit(X_train, y_train)\n",
    "rf_y_preds = rf_model.predict_proba(X_test)[:, 1]"
   ]
  },
  {
   "cell_type": "code",
   "execution_count": 24,
   "id": "49413241",
   "metadata": {},
   "outputs": [
    {
     "name": "stdout",
     "output_type": "stream",
     "text": [
      "Best threshold: 0.280\n"
     ]
    }
   ],
   "source": [
    "precision, recall, thresholds = precision_recall_curve(y_test, rf_y_preds)\n",
    "  \n",
    "fscore = (2 * precision * recall) / (precision + recall)\n",
    "ix = np.argmax(fscore)\n",
    "print('Best threshold: %.3f' % thresholds[ix])"
   ]
  },
  {
   "cell_type": "code",
   "execution_count": 25,
   "id": "d7975e94",
   "metadata": {},
   "outputs": [
    {
     "name": "stdout",
     "output_type": "stream",
     "text": [
      "Confusion matrix, without normalization\n",
      "[[192637      3]\n",
      " [ 15274      0]]\n"
     ]
    },
    {
     "data": {
      "image/png": "[encoded data removed]",
      "text/plain": [
       "<Figure size 640x480 with 1 Axes>"
      ]
     },
     "metadata": {},
     "output_type": "display_data"
    }
   ],
   "source": [
    "cm = confusion_matrix(y_test, rf_y_preds >= thresholds[ix])\n",
    "plot_confusion_matrix(cm, classes=['0', '1'], model_name='Baseline Random Forest')"
   ]
  },
  {
   "cell_type": "code",
   "execution_count": 26,
   "id": "249071c7",
   "metadata": {},
   "outputs": [
    {
     "name": "stdout",
     "output_type": "stream",
     "text": [
      "              precision    recall  f1-score   support\n",
      "\n",
      "         0.0       0.93      1.00      0.96    192640\n",
      "         1.0       0.00      0.00      0.00     15274\n",
      "\n",
      "    accuracy                           0.93    207914\n",
      "   macro avg       0.46      0.50      0.48    207914\n",
      "weighted avg       0.86      0.93      0.89    207914\n",
      "\n"
     ]
    }
   ],
   "source": [
    "print(classification_report(y_test, rf_y_preds >= thresholds[ix]))"
   ]
  },
  {
   "cell_type": "markdown",
   "id": "7a337d5d",
   "metadata": {},
   "source": [
    "Due to the strong imbalance of the values of the target variable, our model ignores class 1 in about half of the cases."
   ]
  },
  {
   "cell_type": "markdown",
   "id": "2f2a1b16",
   "metadata": {},
   "source": [
    "### Model selection"
   ]
  },
  {
   "cell_type": "markdown",
   "id": "630a704f",
   "metadata": {},
   "source": [
    "The goal is to maximize the f1 score result of class 1."
   ]
  },
  {
   "cell_type": "code",
   "execution_count": 28,
   "id": "54548378",
   "metadata": {},
   "outputs": [],
   "source": [
    "def ppln_preds(ppln, X_train, y_train, X_test, y_test):\n",
    "    ppln.fit(X_train, y_train)\n",
    "    preds = ppln.predict(X_test)\n",
    "    steps = '\\n'.join([\"    \" + str(el[1]) for el in ppln.steps])\n",
    "    print(f\"Steps:\\n{steps}\\n\")\n",
    "    print(classification_report(y_test, preds))\n",
    "#     return ppln, preds"
   ]
  },
  {
   "cell_type": "markdown",
   "id": "b69d3da9",
   "metadata": {},
   "source": [
    "#### LogisticRegression"
   ]
  },
  {
   "cell_type": "code",
   "execution_count": 58,
   "id": "8face1ab",
   "metadata": {},
   "outputs": [
    {
     "name": "stdout",
     "output_type": "stream",
     "text": [
      "Steps:\n",
      "    LogisticRegression(random_state=42)\n",
      "\n",
      "              precision    recall  f1-score   support\n",
      "\n",
      "         0.0       0.93      1.00      0.96    192640\n",
      "         1.0       0.00      0.00      0.00     15274\n",
      "\n",
      "    accuracy                           0.93    207914\n",
      "   macro avg       0.46      0.50      0.48    207914\n",
      "weighted avg       0.86      0.93      0.89    207914\n",
      "\n"
     ]
    }
   ],
   "source": [
    "log_reg_ppln = Pipeline([('logistic_regression', LogisticRegression(random_state=42))])\n",
    "\n",
    "ppln_preds(log_reg_ppln, X_train, y_train, X_test, y_test)"
   ]
  },
  {
   "cell_type": "code",
   "execution_count": 59,
   "id": "b5735222",
   "metadata": {},
   "outputs": [
    {
     "name": "stdout",
     "output_type": "stream",
     "text": [
      "Steps:\n",
      "    StandardScaler()\n",
      "    LogisticRegression(random_state=42)\n",
      "\n",
      "              precision    recall  f1-score   support\n",
      "\n",
      "         0.0       0.93      1.00      0.96    192640\n",
      "         1.0       0.29      0.01      0.01     15274\n",
      "\n",
      "    accuracy                           0.93    207914\n",
      "   macro avg       0.61      0.50      0.49    207914\n",
      "weighted avg       0.88      0.93      0.89    207914\n",
      "\n"
     ]
    }
   ],
   "source": [
    "ppln_preds(\n",
    "    Pipeline([(\"std_scaler\", StandardScaler()), \n",
    "              ('logistic_regression', LogisticRegression(random_state=42))]), \n",
    "    X_train, y_train, X_test, y_test)"
   ]
  },
  {
   "cell_type": "code",
   "execution_count": 60,
   "id": "5b778a4a",
   "metadata": {},
   "outputs": [
    {
     "name": "stdout",
     "output_type": "stream",
     "text": [
      "Steps:\n",
      "    PCA()\n",
      "    StandardScaler()\n",
      "    LogisticRegression(random_state=42)\n",
      "\n",
      "              precision    recall  f1-score   support\n",
      "\n",
      "         0.0       0.93      1.00      0.96    192640\n",
      "         1.0       0.29      0.01      0.01     15274\n",
      "\n",
      "    accuracy                           0.93    207914\n",
      "   macro avg       0.61      0.50      0.49    207914\n",
      "weighted avg       0.88      0.93      0.89    207914\n",
      "\n"
     ]
    }
   ],
   "source": [
    "ppln_preds(\n",
    "    Pipeline([('pca', PCA()),\n",
    "              (\"std_scaler\", StandardScaler()), \n",
    "              ('logistic_regression', LogisticRegression(random_state=42))]), \n",
    "    X_train, y_train, X_test, y_test)"
   ]
  },
  {
   "cell_type": "markdown",
   "id": "ce4d4dfe",
   "metadata": {},
   "source": [
    "#### RandomForestClassifier"
   ]
  },
  {
   "cell_type": "code",
   "execution_count": 61,
   "id": "45796e24",
   "metadata": {},
   "outputs": [
    {
     "name": "stdout",
     "output_type": "stream",
     "text": [
      "Steps:\n",
      "    RandomForestClassifier(random_state=42)\n",
      "\n",
      "              precision    recall  f1-score   support\n",
      "\n",
      "         0.0       0.93      0.99      0.96    192640\n",
      "         1.0       0.56      0.08      0.14     15274\n",
      "\n",
      "    accuracy                           0.93    207914\n",
      "   macro avg       0.75      0.54      0.55    207914\n",
      "weighted avg       0.90      0.93      0.90    207914\n",
      "\n"
     ]
    }
   ],
   "source": [
    "ppln_preds(\n",
    "    Pipeline([('rnd_forest', RandomForestClassifier(random_state=42))]), \n",
    "    X_train, y_train, X_test, y_test)"
   ]
  },
  {
   "cell_type": "code",
   "execution_count": 62,
   "id": "4a0527f4",
   "metadata": {},
   "outputs": [
    {
     "name": "stdout",
     "output_type": "stream",
     "text": [
      "Steps:\n",
      "    StandardScaler()\n",
      "    RandomForestClassifier(random_state=42)\n",
      "\n",
      "              precision    recall  f1-score   support\n",
      "\n",
      "         0.0       0.93      0.99      0.96    192640\n",
      "         1.0       0.57      0.08      0.15     15274\n",
      "\n",
      "    accuracy                           0.93    207914\n",
      "   macro avg       0.75      0.54      0.55    207914\n",
      "weighted avg       0.91      0.93      0.90    207914\n",
      "\n"
     ]
    }
   ],
   "source": [
    "ppln_preds(\n",
    "    Pipeline([(\"std_scaler\", StandardScaler()), \n",
    "              ('rnd_forest', RandomForestClassifier(random_state=42))]), \n",
    "    X_train, y_train, X_test, y_test)"
   ]
  },
  {
   "cell_type": "markdown",
   "id": "82ed0200",
   "metadata": {},
   "source": [
    "#### KNeighborsClassifier"
   ]
  },
  {
   "cell_type": "code",
   "execution_count": 63,
   "id": "abb5033d",
   "metadata": {},
   "outputs": [
    {
     "name": "stdout",
     "output_type": "stream",
     "text": [
      "Steps:\n",
      "    KNeighborsClassifier()\n",
      "\n",
      "              precision    recall  f1-score   support\n",
      "\n",
      "         0.0       0.94      0.99      0.96    192640\n",
      "         1.0       0.57      0.17      0.26     15274\n",
      "\n",
      "    accuracy                           0.93    207914\n",
      "   macro avg       0.75      0.58      0.61    207914\n",
      "weighted avg       0.91      0.93      0.91    207914\n",
      "\n"
     ]
    }
   ],
   "source": [
    "ppln_preds(\n",
    "    Pipeline([('knn', KNeighborsClassifier())]), \n",
    "    X_train, y_train, X_test, y_test)"
   ]
  },
  {
   "cell_type": "markdown",
   "id": "e85bfe68",
   "metadata": {},
   "source": [
    "The best f1-score in class 1 was shown by the KNeighborsClassifier model"
   ]
  },
  {
   "cell_type": "markdown",
   "id": "a7608483",
   "metadata": {},
   "source": [
    "### Tuning hyperparameters."
   ]
  },
  {
   "cell_type": "code",
   "execution_count": 29,
   "id": "54b874dd",
   "metadata": {},
   "outputs": [],
   "source": [
    "params={\"n_neighbors\":[1, 3, 5, 7], \"metric\":['minkowski','euclidean']}"
   ]
  },
  {
   "cell_type": "code",
   "execution_count": 30,
   "id": "86ea2df6",
   "metadata": {},
   "outputs": [],
   "source": [
    "grid_search = GridSearchCV(estimator=KNeighborsClassifier(), \n",
    "             param_grid=params, \n",
    "             scoring=\"f1\")"
   ]
  },
  {
   "cell_type": "code",
   "execution_count": null,
   "id": "3ee43470",
   "metadata": {},
   "outputs": [],
   "source": [
    "grid_search.fit(X_train, y_train);"
   ]
  },
  {
   "cell_type": "code",
   "execution_count": 115,
   "id": "a0140921",
   "metadata": {},
   "outputs": [
    {
     "data": {
      "text/plain": [
       "{'metric': 'minkowski', 'n_neighbors': 7}"
      ]
     },
     "execution_count": 115,
     "metadata": {},
     "output_type": "execute_result"
    }
   ],
   "source": [
    "grid_search.best_params_"
   ]
  },
  {
   "cell_type": "code",
   "execution_count": 33,
   "id": "787d7779",
   "metadata": {
    "scrolled": true
   },
   "outputs": [
    {
     "name": "stdout",
     "output_type": "stream",
     "text": [
      "Steps:\n",
      "    KNeighborsClassifier(n_neighbors=7)\n",
      "\n",
      "              precision    recall  f1-score   support\n",
      "\n",
      "         0.0       0.94      0.99      0.96    192640\n",
      "         1.0       0.62      0.17      0.27     15274\n",
      "\n",
      "    accuracy                           0.93    207914\n",
      "   macro avg       0.78      0.58      0.62    207914\n",
      "weighted avg       0.91      0.93      0.91    207914\n",
      "\n"
     ]
    }
   ],
   "source": [
    "ppln_preds(\n",
    "    Pipeline([('knn', KNeighborsClassifier(n_neighbors=7, metric=\"minkowski\"))]), \n",
    "    X_train, y_train, X_test, y_test)"
   ]
  },
  {
   "cell_type": "code",
   "execution_count": 36,
   "id": "4caa42fd",
   "metadata": {},
   "outputs": [],
   "source": [
    "best_model = Pipeline([('knn', KNeighborsClassifier(n_neighbors=7, metric=\"minkowski\"))])"
   ]
  },
  {
   "cell_type": "code",
   "execution_count": 37,
   "id": "43754435",
   "metadata": {},
   "outputs": [
    {
     "data": {
      "text/plain": [
       "Pipeline(steps=[('knn', KNeighborsClassifier(n_neighbors=7))])"
      ]
     },
     "execution_count": 37,
     "metadata": {},
     "output_type": "execute_result"
    }
   ],
   "source": [
    "best_model.fit(X_train, y_train)"
   ]
  },
  {
   "cell_type": "markdown",
   "id": "2a00e008",
   "metadata": {},
   "source": [
    "#### Saving model"
   ]
  },
  {
   "cell_type": "code",
   "execution_count": 40,
   "id": "9c6c97fa",
   "metadata": {},
   "outputs": [],
   "source": [
    "with open(\"best_model.pkl\", 'wb') as f:\n",
    "    pickle.dump(best_model, f)"
   ]
  },
  {
   "cell_type": "markdown",
   "id": "8efc4852",
   "metadata": {},
   "source": [
    "#### Making pipeline"
   ]
  },
  {
   "cell_type": "code",
   "execution_count": 55,
   "id": "07d02fbf",
   "metadata": {},
   "outputs": [],
   "source": [
    "ppln_final = Pipeline([('data_prepare', DataPreparation(data_test, data_features)),\n",
    "                       ('column_select', ColumnSelector(X_train.columns)),\n",
    "                        ('model', best_model)\n",
    "])"
   ]
  },
  {
   "cell_type": "code",
   "execution_count": 56,
   "id": "2dc5fe9a",
   "metadata": {},
   "outputs": [],
   "source": [
    "test_preds = ppln_final.predict_proba(data_test)"
   ]
  },
  {
   "cell_type": "code",
   "execution_count": 60,
   "id": "27370a32",
   "metadata": {},
   "outputs": [],
   "source": [
    "answers = data_test.join(pd.DataFrame(test_preds)[1])\n",
    "answers.rename(columns={1: 'target'}, inplace=True)"
   ]
  },
  {
   "cell_type": "code",
   "execution_count": 63,
   "id": "6c98557f",
   "metadata": {},
   "outputs": [],
   "source": [
    "with open('./pipeline.pkl', 'wb') as f:\n",
    "    pickle.dump(ppln_final, f)"
   ]
  },
  {
   "cell_type": "code",
   "execution_count": 64,
   "id": "5d1c7df3",
   "metadata": {},
   "outputs": [],
   "source": [
    "with open(\"./answers.csv\", 'wb') as f:\n",
    "    answers.to_csv(f, encoding='utf-8', index=False)"
   ]
  }
 ],
 "metadata": {
  "kernelspec": {
   "display_name": "Python 3 (ipykernel)",
   "language": "python",
   "name": "python3"
  },
  "language_info": {
   "codemirror_mode": {
    "name": "ipython",
    "version": 3
   },
   "file_extension": ".py",
   "mimetype": "text/x-python",
   "name": "python",
   "nbconvert_exporter": "python",
   "pygments_lexer": "ipython3",
   "version": "3.9.7"
  }
 },
 "nbformat": 4,
 "nbformat_minor": 5
}
