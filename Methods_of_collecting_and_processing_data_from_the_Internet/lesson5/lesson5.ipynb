{
 "cells": [
  {
   "cell_type": "code",
   "execution_count": 1,
   "metadata": {},
   "outputs": [],
   "source": [
    "from selenium import webdriver\n",
    "from selenium.webdriver.common.by import By\n",
    "from selenium.webdriver.common.keys import Keys\n",
    "import selenium.common.exceptions as err\n",
    "import time\n",
    "import datetime\n",
    "from pymongo import MongoClient\n",
    "client = MongoClient('127.0.0.1', 27017)\n",
    "db = client['letters']"
   ]
  },
  {
   "cell_type": "code",
   "execution_count": 20,
   "metadata": {},
   "outputs": [],
   "source": [
    "def to_db(letters):\n",
    "    counter = 0\n",
    "    for letter in letters:\n",
    "        counter += 1\n",
    "        db.letters.insert_one(letter)\n",
    "    print(f'\\nВ базу добавлено {counter} писем.')"
   ]
  },
  {
   "cell_type": "code",
   "execution_count": 3,
   "metadata": {},
   "outputs": [],
   "source": [
    "months = {'января': '01', 'февраля': '02', 'марта': '03', 'апреля': '04', 'мая': '05', 'июня': '06', 'июля': '07',\n",
    "          'августа': '08', 'сентября': '09', 'октября': '10', 'ноября': '11', 'декабря': '12'}"
   ]
  },
  {
   "cell_type": "code",
   "execution_count": 40,
   "metadata": {},
   "outputs": [
    {
     "name": "stdout",
     "output_type": "stream",
     "text": [
      "1\n",
      "2\n",
      "3\n",
      "4\n",
      "5\n",
      "6\n",
      "7\n",
      "8\n",
      "9\n",
      "10\n",
      "11\n",
      "12\n",
      "13\n",
      "14\n",
      "15\n",
      "16\n",
      "17\n",
      "18\n",
      "19\n",
      "20\n"
     ]
    }
   ],
   "source": [
    "driver = webdriver.Firefox(executable_path='./geckodriver')\n",
    "driver.implicitly_wait(10)\n",
    "driver.get('https://mail.ru')\n",
    "\n",
    "# mail.ru authorization start\n",
    "elem = driver.find_element(By.XPATH, '//div[contains(@class, \"email-input-container\")]//input[@type=\"text\"]')\n",
    "elem.send_keys('study.ai_172@mail.ru')\n",
    "elem.send_keys(Keys.ENTER)\n",
    "elem = driver.find_element(By.CLASS_NAME, 'password-input')\n",
    "time.sleep(5)\n",
    "elem.send_keys('NextPassword172#')\n",
    "elem.send_keys(Keys.ENTER)\n",
    "# mail.ru authorization end\n",
    "time.sleep(7)\n",
    "elem = driver.find_element(By.XPATH, \"//div[@class='dataset__items']/a[1]\")\n",
    "elem.click()  # click on first letter\n",
    "\n",
    "letters = []\n",
    "counter = 0\n",
    "for i in range(20):\n",
    "    try:\n",
    "        letter = {}\n",
    "        time.sleep(0.3)\n",
    "        letter['text'] = driver.find_element(By.XPATH, \"//div[@class='letter__body']/div[@class='letter-body']\").text\n",
    "        counter += 1\n",
    "        letter['topic'] = driver.find_element(By.XPATH, \"//h2[@class='thread__subject']\").text\n",
    "        letter['contact'] = driver.find_element(By.XPATH,\n",
    "                                                \"//div[@class='letter__author']/span[@class='letter-contact']\").text\n",
    "        date = driver.find_element(By.XPATH, \"//div[@class='letter__date']\").text\n",
    "        date = date.split(', ')[0]\n",
    "        if date == 'Вчера':\n",
    "            date = (datetime.datetime.today() - datetime.timedelta(days=1)).date()\n",
    "        elif date == 'Сегодня':\n",
    "            date = datetime.datetime.today()\n",
    "        else:\n",
    "            date = date.split()\n",
    "            if len(date) == 2:\n",
    "                date.append(str(datetime.datetime.now().year))\n",
    "            date[1] = months[date[1]]\n",
    "            date = '-'.join(date)\n",
    "            date = datetime.datetime.strptime(date, '%d-%m-%Y').date()\n",
    "        letter['date'] = str(date)\n",
    "        letters.append(letter)\n",
    "        elem = driver.find_element(By.XPATH,\n",
    "                                   '//div[@class=\"portal-menu__group\"]//span[contains(@class, \"button2_arrow-down\")]')\n",
    "        elem.click()\n",
    "        print(counter)\n",
    "    except err.ElementClickInterceptedException as err_click:\n",
    "        print(err_click)\n",
    "        break\n",
    "    except Exception as exception:\n",
    "        print(exception)\n",
    "        elem = driver.find_element(By.XPATH,\n",
    "                                   '//div[@class=\"portal-menu__group\"]//span[contains(@class, \"button2_arrow-down\")]')\n",
    "        elem.click()\n",
    "        continue"
   ]
  },
  {
   "cell_type": "code",
   "execution_count": 41,
   "metadata": {},
   "outputs": [
    {
     "name": "stdout",
     "output_type": "stream",
     "text": [
      "\n",
      "В базу добавлено 20 писем.\n"
     ]
    }
   ],
   "source": [
    "to_db(letters)"
   ]
  },
  {
   "cell_type": "code",
   "execution_count": null,
   "metadata": {},
   "outputs": [],
   "source": []
  }
 ],
 "metadata": {
  "kernelspec": {
   "display_name": "Python 3",
   "language": "python",
   "name": "python3"
  },
  "language_info": {
   "codemirror_mode": {
    "name": "ipython",
    "version": 3
   },
   "file_extension": ".py",
   "mimetype": "text/x-python",
   "name": "python",
   "nbconvert_exporter": "python",
   "pygments_lexer": "ipython3",
   "version": "3.7.3"
  }
 },
 "nbformat": 4,
 "nbformat_minor": 2
}
