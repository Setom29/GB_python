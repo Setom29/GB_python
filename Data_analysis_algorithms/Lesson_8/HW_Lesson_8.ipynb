{
 "cells": [
  {
   "cell_type": "markdown",
   "id": "34b509ea",
   "metadata": {},
   "source": [
    "Обучите любую модель классификации на датасете IRIS до применения PCA и после него. Сравните качество классификации по отложенной выборке.\n",
    "Напишите свою реализацию метода главных компонент посредством сингулярного разложения с использованием функции numpy.linalg.svd()."
   ]
  },
  {
   "cell_type": "code",
   "execution_count": 14,
   "id": "50c248ca",
   "metadata": {},
   "outputs": [],
   "source": [
    "import numpy as np\n",
    "from sklearn import datasets\n",
    "import matplotlib.pyplot as plt\n",
    "from sklearn.ensemble import RandomForestClassifier\n",
    "from sklearn.model_selection import train_test_split\n",
    "from sklearn.metrics import accuracy_score"
   ]
  },
  {
   "cell_type": "code",
   "execution_count": 23,
   "id": "47bce64f",
   "metadata": {},
   "outputs": [
    {
     "data": {
      "text/plain": [
       "(150, 4)"
      ]
     },
     "execution_count": 23,
     "metadata": {},
     "output_type": "execute_result"
    }
   ],
   "source": [
    "# Загрузим игрушечный датасет из sklearn\n",
    "iris = datasets.load_iris()\n",
    "X = iris.data\n",
    "Y = iris.target \n",
    "X.shape"
   ]
  },
  {
   "cell_type": "code",
   "execution_count": 24,
   "id": "57f09bb6",
   "metadata": {},
   "outputs": [],
   "source": [
    "# Для начала масштабируем выборку\n",
    "X_ = X.astype(float)\n",
    "\n",
    "rows, cols = X_.shape\n",
    "\n",
    "# центрирование — вычитание из каждого значения среднего по строке\n",
    "means = X_.mean(0)\n",
    "for i in range(rows):\n",
    "    for j in range(cols):\n",
    "        X_[i, j] -= means[j]\n",
    "\n",
    "# деление каждого значения на стандартное отклонение\n",
    "std = np.std(X_, axis=0)\n",
    "for i in range(cols):\n",
    "    for j in range(rows):\n",
    "        X_[j][i] /= std[i]"
   ]
  },
  {
   "cell_type": "code",
   "execution_count": 25,
   "id": "3cc4370c",
   "metadata": {},
   "outputs": [
    {
     "name": "stdout",
     "output_type": "stream",
     "text": [
      "Собственные значения в порядке убывания:\n",
      "(437.77467247979905, array([ 0.52106591, -0.26934744,  0.5804131 ,  0.56485654]))\n",
      "(137.1045707202107, array([-0.37741762, -0.92329566, -0.02449161, -0.06694199]))\n",
      "(22.01353133569719, array([-0.71956635,  0.24438178,  0.14212637,  0.63427274]))\n",
      "(3.107225464292897, array([ 0.26128628, -0.12350962, -0.80144925,  0.52359713]))\n"
     ]
    }
   ],
   "source": [
    "# Найдем собственные векторы и собственные значения (англ. Eigenvalues)\n",
    " \n",
    "covariance_matrix = X_.T.dot(X_)\n",
    "\n",
    "eig_values, eig_vectors = np.linalg.eig(covariance_matrix)\n",
    "\n",
    "# сформируем список кортежей (собственное значение, собственный вектор)\n",
    "eig_pairs = [(np.abs(eig_values[i]), eig_vectors[:, i]) for i in range(len(eig_values))]\n",
    "\n",
    "# и отсортируем список по убыванию собственных значений\n",
    "eig_pairs.sort(key=lambda x: x[0], reverse=True)\n",
    "\n",
    "print('Собственные значения в порядке убывания:')\n",
    "for i in eig_pairs:\n",
    "    print(i)"
   ]
  },
  {
   "cell_type": "code",
   "execution_count": 26,
   "id": "bd4e2a6f",
   "metadata": {},
   "outputs": [
    {
     "name": "stdout",
     "output_type": "stream",
     "text": [
      "Доля дисперсии, описываемая каждой из компонент \n",
      "[72.96244541329986, 22.85076178670179, 3.668921889282866, 0.517870910715483]\n",
      "Кумулятивная доля дисперсии по компонентам \n",
      "[ 72.96244541  95.8132072   99.48212909 100.        ]\n"
     ]
    }
   ],
   "source": [
    "\n",
    "eig_sum = sum(eig_values)\n",
    "var_exp = [(i / eig_sum) * 100 for i in sorted(eig_values, reverse=True)]\n",
    "cum_var_exp = np.cumsum(var_exp)\n",
    "print(f'Доля дисперсии, описываемая каждой из компонент \\n{var_exp}')\n",
    "\n",
    "# а теперя оценим кумулятивную (то есть накапливаемую) дисперсию при учитывании каждой из компонент\n",
    "print(f'Кумулятивная доля дисперсии по компонентам \\n{cum_var_exp}')"
   ]
  },
  {
   "cell_type": "code",
   "execution_count": 27,
   "id": "08e390fe",
   "metadata": {},
   "outputs": [
    {
     "name": "stdout",
     "output_type": "stream",
     "text": [
      "Доля дисперсии, описываемая каждой из компонент \n",
      "[72.96244541329986, 22.85076178670179, 3.668921889282866, 0.517870910715483]\n",
      "Кумулятивная доля дисперсии по компонентам \n",
      "[ 72.96244541  95.8132072   99.48212909 100.        ]\n"
     ]
    }
   ],
   "source": [
    "eig_sum = sum(eig_values)\n",
    "var_exp = [(i / eig_sum) * 100 for i in sorted(eig_values, reverse=True)]\n",
    "cum_var_exp = np.cumsum(var_exp)\n",
    "print(f'Доля дисперсии, описываемая каждой из компонент \\n{var_exp}')\n",
    "\n",
    "# а теперь оценим кумулятивную, то есть накапливаемую, дисперсию при учитывании каждой из компонент\n",
    "print(f'Кумулятивная доля дисперсии по компонентам \\n{cum_var_exp}')"
   ]
  },
  {
   "cell_type": "code",
   "execution_count": 28,
   "id": "f28ff69e",
   "metadata": {},
   "outputs": [
    {
     "name": "stdout",
     "output_type": "stream",
     "text": [
      "Матрица весов W:\n",
      " [[ 0.52106591 -0.37741762]\n",
      " [-0.26934744 -0.92329566]\n",
      " [ 0.5804131  -0.02449161]\n",
      " [ 0.56485654 -0.06694199]]\n"
     ]
    }
   ],
   "source": [
    "# Сформируем вектор весов из собственных векторов, соответствующих первым двум главным компонентам\n",
    "W = np.hstack((eig_pairs[0][1].reshape(4,1), eig_pairs[1][1].reshape(4,1)))\n",
    "\n",
    "print(f'Матрица весов W:\\n', W)"
   ]
  },
  {
   "cell_type": "code",
   "execution_count": 29,
   "id": "a4d52ddb",
   "metadata": {},
   "outputs": [],
   "source": [
    "# Сформируем новую матрицу «объекты-признаки»\n",
    "Z = X_.dot(W)"
   ]
  },
  {
   "cell_type": "code",
   "execution_count": 30,
   "id": "f551216a",
   "metadata": {},
   "outputs": [],
   "source": [
    "X_train_before, X_test_before, y_train_before, y_test_before = train_test_split(X_, Y, test_size=0.3)\n",
    "X_train_after, X_test_after, y_train_after, y_test_after = train_test_split(Z, Y, test_size=0.3)"
   ]
  },
  {
   "cell_type": "code",
   "execution_count": 32,
   "id": "202751e8",
   "metadata": {},
   "outputs": [
    {
     "name": "stdout",
     "output_type": "stream",
     "text": [
      "0.9333333333333333\n"
     ]
    }
   ],
   "source": [
    "before_pca = RandomForestClassifier(max_depth=10, n_estimators=20)\n",
    "before_pca.fit(X_train_before, y_train_before)\n",
    "y_pred_before = before_pca.predict(X_test_before)\n",
    "print(accuracy_score(y_test_before, y_pred_before))"
   ]
  },
  {
   "cell_type": "code",
   "execution_count": 34,
   "id": "3657eb59",
   "metadata": {},
   "outputs": [
    {
     "name": "stdout",
     "output_type": "stream",
     "text": [
      "0.9111111111111111\n"
     ]
    }
   ],
   "source": [
    "after_pca = RandomForestClassifier(max_depth=10, n_estimators=20)\n",
    "after_pca.fit(X_train_after, y_train_after)\n",
    "y_pred_after = after_pca.predict(X_test_after)\n",
    "print(accuracy_score(y_test_after, y_pred_after))"
   ]
  },
  {
   "cell_type": "markdown",
   "id": "b5a7bd95",
   "metadata": {},
   "source": [
    "Напишите свою реализацию метода главных компонент посредством сингулярного разложения с использованием функции numpy.linalg.svd()."
   ]
  },
  {
   "cell_type": "code",
   "execution_count": null,
   "id": "aef06508",
   "metadata": {},
   "outputs": [],
   "source": [
    "def get_pca_using_SVD(X, n)\n",
    "    # Compute covariance matrix\n",
    "    C = np.dot(X.T, X) / (n-1)\n",
    "    # Eigen decomposition\n",
    "    eigen_vals, eigen_vecs = np.linalg.eig(C)\n",
    "    # SVD\n",
    "    U, Sigma, Vh = np.linalg.svd(X, \n",
    "        full_matrices=False, \n",
    "        compute_uv=True)\n",
    "    # Relationship between singular values and eigen values:\n",
    "    return np.allclose(np.square(Sigma) / (n - 1), eigen_vals)"
   ]
  }
 ],
 "metadata": {
  "kernelspec": {
   "display_name": "Python 3 (ipykernel)",
   "language": "python",
   "name": "python3"
  },
  "language_info": {
   "codemirror_mode": {
    "name": "ipython",
    "version": 3
   },
   "file_extension": ".py",
   "mimetype": "text/x-python",
   "name": "python",
   "nbconvert_exporter": "python",
   "pygments_lexer": "ipython3",
   "version": "3.9.7"
  }
 },
 "nbformat": 4,
 "nbformat_minor": 5
}
