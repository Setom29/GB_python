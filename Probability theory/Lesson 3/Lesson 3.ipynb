{
 "cells": [
  {
   "cell_type": "markdown",
   "metadata": {},
   "source": [
    "Нецелые числа следует округлить до 8 знаков после запятой.\n",
    "\n",
    "Задача 1\n",
    "\n",
    "Даны значения зарплат из выборки выпускников:\n"
   ]
  },
  {
   "cell_type": "code",
   "execution_count": 1,
   "metadata": {},
   "outputs": [],
   "source": [
    "nums = [100, 80, 75, 77, 89, 33, 45, 25, 65, 17, 30, 230, 24, 57, 55, 70, 75, 65, 84, 90, 150]"
   ]
  },
  {
   "cell_type": "markdown",
   "metadata": {},
   "source": [
    "Используя только встроенные питоновские функции и структуры данных (т.е. без библиотек numpy, pandas и др.), посчитайте (несмещённое) среднее квадратичное отклонение для данной выборки.\n"
   ]
  },
  {
   "cell_type": "code",
   "execution_count": 2,
   "metadata": {},
   "outputs": [
    {
     "data": {
      "text/plain": [
       "47.34795214"
      ]
     },
     "execution_count": 2,
     "metadata": {},
     "output_type": "execute_result"
    }
   ],
   "source": [
    "median = sum(nums) / len(nums)\n",
    "round((sum([(el - median) ** 2 for el in nums])/(len(nums) - 1)) ** (1/2), 8)"
   ]
  },
  {
   "cell_type": "markdown",
   "metadata": {},
   "source": [
    "Задача 2\n",
    "\n",
    "Найдите число выбросов в выборке из задачи 1. Для определения выбросов используйте методику как при построении “усов” в boxplot, однако, как и в задаче 1, пользоваться можно только встроенными функциями и структурами данных.\n"
   ]
  },
  {
   "cell_type": "code",
   "execution_count": 9,
   "metadata": {},
   "outputs": [
    {
     "data": {
      "image/png": "[encoded data removed]",
      "text/plain": [
       "<Figure size 432x288 with 1 Axes>"
      ]
     },
     "metadata": {
      "needs_background": "light"
     },
     "output_type": "display_data"
    }
   ],
   "source": [
    "import matplotlib.pyplot as plt\n",
    "plt.boxplot(nums, vert=False)\n",
    "plt.show()"
   ]
  },
  {
   "cell_type": "code",
   "execution_count": 4,
   "metadata": {},
   "outputs": [],
   "source": [
    "def quantile(lst, order):\n",
    "    lst = sorted(lst)\n",
    "    n = len(lst)\n",
    "    ans = []\n",
    "    if type(order) is not list:\n",
    "        order = [order]\n",
    "    for el in order:\n",
    "        k_left_q = int(n * el)\n",
    "        k_right_q = int(n * (1 - el))\n",
    "        if k_left_q + k_right_q == n:\n",
    "            ans.append((lst[k_left_q - 1] + lst[k_left_q]) / 2)\n",
    "        else:\n",
    "            ans.append(lst[k_left_q])\n",
    "            \n",
    "    return ans[0] if len(order) == 1 else ans"
   ]
  },
  {
   "cell_type": "code",
   "execution_count": 5,
   "metadata": {},
   "outputs": [
    {
     "data": {
      "text/plain": [
       "(-13.5, 142.5)"
      ]
     },
     "execution_count": 5,
     "metadata": {},
     "output_type": "execute_result"
    }
   ],
   "source": [
    "q1, q2, q3 = quantile(nums, [0.25, 0.5, 0.75])\n",
    "\n",
    "iqr = q3 - q1\n",
    "\n",
    "boxplot_range = (q1 - 1.5 * iqr, q3 + 1.5 * iqr)\n",
    "boxplot_range"
   ]
  },
  {
   "cell_type": "markdown",
   "metadata": {},
   "source": [
    "Выбросы:"
   ]
  },
  {
   "cell_type": "code",
   "execution_count": 6,
   "metadata": {},
   "outputs": [
    {
     "data": {
      "text/plain": [
       "[230, 150]"
      ]
     },
     "execution_count": 6,
     "metadata": {},
     "output_type": "execute_result"
    }
   ],
   "source": [
    "list(filter(lambda x: not (boxplot_range[0] <= x <= boxplot_range[1]), nums))"
   ]
  },
  {
   "cell_type": "markdown",
   "metadata": {},
   "source": [
    "Задача 3\n",
    "\n",
    "В университет на факультет A поступило 100 человек, на факультет B - 90 человек и на факультет C - 45 человек. Вероятность того, что студент с факультета A сдаст первую сессию, равна 0.6. Для студента с факультета B эта вероятность равна 0.7, а для студента с факультета C - 0.8. Случайным образом выбирается студент, сдавший первую сессию. Какое событие наиболее вероятно:"
   ]
  },
  {
   "cell_type": "code",
   "execution_count": 7,
   "metadata": {},
   "outputs": [],
   "source": [
    "students = [100, 90, 45]\n",
    "n = sum(students)\n",
    "probabilities = [0.6, 0.7, 0.8]"
   ]
  },
  {
   "cell_type": "markdown",
   "metadata": {},
   "source": [
    "$$P(A|+) = \\frac{P(+|A) \\cdot P(A)}{P(+|A) \\cdot P(A) + P(+|B) \\cdot P(B) + P(+|C) \\cdot P(C)}$$\n",
    "\n",
    "$$P(B|+) = \\frac{P(+|B) \\cdot P(B)}{P(+|A) \\cdot P(A) + P(+|B) \\cdot P(B) + P(+|C) \\cdot P(C)}$$\n",
    "\n",
    "$$P(C|+) = \\frac{P(+|C) \\cdot P(C)}{P(+|A) \\cdot P(A) + P(+|B) \\cdot P(B) + P(+|C) \\cdot P(C)}$$"
   ]
  },
  {
   "cell_type": "code",
   "execution_count": 8,
   "metadata": {},
   "outputs": [
    {
     "data": {
      "text/plain": [
       "[('A:', 0.3773584905660377),\n",
       " ('B:', 0.39622641509433953),\n",
       " ('C:', 0.22641509433962265)]"
      ]
     },
     "execution_count": 8,
     "metadata": {},
     "output_type": "execute_result"
    }
   ],
   "source": [
    "denominator = (probabilities[0] * students[0] / n) + (probabilities[1] * students[1] / n) + (probabilities[2] * students[2] / n)\n",
    "ans_lst = [(probabilities[i] * students[i] / n) / denominator for i in range(3)]\n",
    "list(zip(['A:', 'B:', 'C:'], ans_lst))"
   ]
  },
  {
   "cell_type": "markdown",
   "metadata": {},
   "source": [
    "Наиболее вероятно, что данный студент учится на факультете B."
   ]
  }
 ],
 "metadata": {
  "colab": {
   "name": "solutions1.ipynb",
   "provenance": []
  },
  "kernelspec": {
   "display_name": "Python 3",
   "language": "python",
   "name": "python3"
  },
  "language_info": {
   "codemirror_mode": {
    "name": "ipython",
    "version": 3
   },
   "file_extension": ".py",
   "mimetype": "text/x-python",
   "name": "python",
   "nbconvert_exporter": "python",
   "pygments_lexer": "ipython3",
   "version": "3.7.4"
  }
 },
 "nbformat": 4,
 "nbformat_minor": 1
}
