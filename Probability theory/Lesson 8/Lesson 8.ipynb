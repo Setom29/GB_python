{
 "cells": [
  {
   "cell_type": "code",
   "execution_count": 59,
   "id": "a35e5584",
   "metadata": {},
   "outputs": [],
   "source": [
    "import numpy as np\n",
    "import pandas as pd\n",
    "from warnings import filterwarnings\n",
    "filterwarnings(\"ignore\")\n",
    "import seaborn as sns\n",
    "from scipy import stats"
   ]
  },
  {
   "cell_type": "markdown",
   "id": "f1152d20",
   "metadata": {},
   "source": [
    "Используя данные о хоккеистах (скачать можно здесь), проверьте, является ли среди хоккеистов из Финляндии, Норвегии и Дании значимым отличие: а) роста, б) BMI."
   ]
  },
  {
   "cell_type": "code",
   "execution_count": 47,
   "id": "a5c51b58",
   "metadata": {},
   "outputs": [
    {
     "data": {
      "text/html": [
       "<div>\n",
       "<style scoped>\n",
       "    .dataframe tbody tr th:only-of-type {\n",
       "        vertical-align: middle;\n",
       "    }\n",
       "\n",
       "    .dataframe tbody tr th {\n",
       "        vertical-align: top;\n",
       "    }\n",
       "\n",
       "    .dataframe thead th {\n",
       "        text-align: right;\n",
       "    }\n",
       "</style>\n",
       "<table border=\"1\" class=\"dataframe\">\n",
       "  <thead>\n",
       "    <tr style=\"text-align: right;\">\n",
       "      <th></th>\n",
       "      <th>year</th>\n",
       "      <th>country</th>\n",
       "      <th>no</th>\n",
       "      <th>name</th>\n",
       "      <th>position</th>\n",
       "      <th>side</th>\n",
       "      <th>height</th>\n",
       "      <th>weight</th>\n",
       "      <th>birth</th>\n",
       "      <th>club</th>\n",
       "      <th>age</th>\n",
       "      <th>cohort</th>\n",
       "      <th>bmi</th>\n",
       "    </tr>\n",
       "  </thead>\n",
       "  <tbody>\n",
       "    <tr>\n",
       "      <th>4778</th>\n",
       "      <td>2013</td>\n",
       "      <td>CAN</td>\n",
       "      <td>2</td>\n",
       "      <td>hamhuis dan</td>\n",
       "      <td>D</td>\n",
       "      <td>L</td>\n",
       "      <td>186</td>\n",
       "      <td>92.0</td>\n",
       "      <td>1982-12-13</td>\n",
       "      <td>vancouver canucks</td>\n",
       "      <td>30.381930</td>\n",
       "      <td>1982</td>\n",
       "      <td>26.592670</td>\n",
       "    </tr>\n",
       "    <tr>\n",
       "      <th>3726</th>\n",
       "      <td>2010</td>\n",
       "      <td>ITA</td>\n",
       "      <td>28</td>\n",
       "      <td>de toni manuel</td>\n",
       "      <td>F</td>\n",
       "      <td>L</td>\n",
       "      <td>181</td>\n",
       "      <td>80.0</td>\n",
       "      <td>1979-01-10</td>\n",
       "      <td>alleghe hockey</td>\n",
       "      <td>31.304586</td>\n",
       "      <td>1979</td>\n",
       "      <td>24.419279</td>\n",
       "    </tr>\n",
       "    <tr>\n",
       "      <th>129</th>\n",
       "      <td>2001</td>\n",
       "      <td>FIN</td>\n",
       "      <td>15</td>\n",
       "      <td>laaksonen antti</td>\n",
       "      <td>F</td>\n",
       "      <td>L</td>\n",
       "      <td>183</td>\n",
       "      <td>82.0</td>\n",
       "      <td>1973-10-03</td>\n",
       "      <td>minnesota wild</td>\n",
       "      <td>27.575633</td>\n",
       "      <td>1973</td>\n",
       "      <td>24.485652</td>\n",
       "    </tr>\n",
       "    <tr>\n",
       "      <th>5056</th>\n",
       "      <td>2013</td>\n",
       "      <td>SWE</td>\n",
       "      <td>81</td>\n",
       "      <td>falth elias</td>\n",
       "      <td>D</td>\n",
       "      <td>R</td>\n",
       "      <td>176</td>\n",
       "      <td>79.0</td>\n",
       "      <td>1981-03-30</td>\n",
       "      <td>hv71 jonkoping</td>\n",
       "      <td>32.087611</td>\n",
       "      <td>1981</td>\n",
       "      <td>25.503616</td>\n",
       "    </tr>\n",
       "    <tr>\n",
       "      <th>4071</th>\n",
       "      <td>2011</td>\n",
       "      <td>FIN</td>\n",
       "      <td>47</td>\n",
       "      <td>lahti janne</td>\n",
       "      <td>F</td>\n",
       "      <td>L</td>\n",
       "      <td>189</td>\n",
       "      <td>89.0</td>\n",
       "      <td>1982-07-20</td>\n",
       "      <td>jokerit helsinki</td>\n",
       "      <td>28.780287</td>\n",
       "      <td>1982</td>\n",
       "      <td>24.915316</td>\n",
       "    </tr>\n",
       "  </tbody>\n",
       "</table>\n",
       "</div>"
      ],
      "text/plain": [
       "      year country  no              name position side  height  weight  \\\n",
       "4778  2013     CAN   2       hamhuis dan        D    L     186    92.0   \n",
       "3726  2010     ITA  28    de toni manuel        F    L     181    80.0   \n",
       "129   2001     FIN  15  laaksonen antti         F    L     183    82.0   \n",
       "5056  2013     SWE  81       falth elias        D    R     176    79.0   \n",
       "4071  2011     FIN  47       lahti janne        F    L     189    89.0   \n",
       "\n",
       "           birth               club        age  cohort        bmi  \n",
       "4778  1982-12-13  vancouver canucks  30.381930    1982  26.592670  \n",
       "3726  1979-01-10     alleghe hockey  31.304586    1979  24.419279  \n",
       "129   1973-10-03    minnesota wild   27.575633    1973  24.485652  \n",
       "5056  1981-03-30     hv71 jonkoping  32.087611    1981  25.503616  \n",
       "4071  1982-07-20   jokerit helsinki  28.780287    1982  24.915316  "
      ]
     },
     "execution_count": 47,
     "metadata": {},
     "output_type": "execute_result"
    }
   ],
   "source": [
    "df = pd.read_csv('hockey_players.csv', encoding='ISO-8859-1')\n",
    "df.sample(5)"
   ]
  },
  {
   "cell_type": "code",
   "execution_count": 48,
   "id": "3c08663d",
   "metadata": {},
   "outputs": [],
   "source": [
    "df = df.sort_values(by='age', ascending=True,  ignore_index=True).drop_duplicates(subset='name', keep='last')"
   ]
  },
  {
   "cell_type": "code",
   "execution_count": 49,
   "id": "9630312c",
   "metadata": {},
   "outputs": [
    {
     "data": {
      "text/html": [
       "<div>\n",
       "<style scoped>\n",
       "    .dataframe tbody tr th:only-of-type {\n",
       "        vertical-align: middle;\n",
       "    }\n",
       "\n",
       "    .dataframe tbody tr th {\n",
       "        vertical-align: top;\n",
       "    }\n",
       "\n",
       "    .dataframe thead th {\n",
       "        text-align: right;\n",
       "    }\n",
       "</style>\n",
       "<table border=\"1\" class=\"dataframe\">\n",
       "  <thead>\n",
       "    <tr style=\"text-align: right;\">\n",
       "      <th></th>\n",
       "      <th>year</th>\n",
       "      <th>no</th>\n",
       "      <th>height</th>\n",
       "      <th>weight</th>\n",
       "      <th>age</th>\n",
       "      <th>cohort</th>\n",
       "      <th>bmi</th>\n",
       "    </tr>\n",
       "  </thead>\n",
       "  <tbody>\n",
       "    <tr>\n",
       "      <th>count</th>\n",
       "      <td>3278.000000</td>\n",
       "      <td>3278.000000</td>\n",
       "      <td>3278.000000</td>\n",
       "      <td>3278.000000</td>\n",
       "      <td>3278.000000</td>\n",
       "      <td>3278.000000</td>\n",
       "      <td>3278.000000</td>\n",
       "    </tr>\n",
       "    <tr>\n",
       "      <th>mean</th>\n",
       "      <td>2008.335570</td>\n",
       "      <td>29.231239</td>\n",
       "      <td>183.893228</td>\n",
       "      <td>87.945546</td>\n",
       "      <td>27.859656</td>\n",
       "      <td>1980.359365</td>\n",
       "      <td>25.989036</td>\n",
       "    </tr>\n",
       "    <tr>\n",
       "      <th>std</th>\n",
       "      <td>5.093477</td>\n",
       "      <td>23.271197</td>\n",
       "      <td>5.480919</td>\n",
       "      <td>7.045355</td>\n",
       "      <td>4.403044</td>\n",
       "      <td>6.808705</td>\n",
       "      <td>1.481745</td>\n",
       "    </tr>\n",
       "    <tr>\n",
       "      <th>min</th>\n",
       "      <td>2001.000000</td>\n",
       "      <td>1.000000</td>\n",
       "      <td>165.000000</td>\n",
       "      <td>65.000000</td>\n",
       "      <td>17.686516</td>\n",
       "      <td>1963.000000</td>\n",
       "      <td>19.460881</td>\n",
       "    </tr>\n",
       "    <tr>\n",
       "      <th>25%</th>\n",
       "      <td>2004.000000</td>\n",
       "      <td>12.000000</td>\n",
       "      <td>180.000000</td>\n",
       "      <td>83.000000</td>\n",
       "      <td>24.681725</td>\n",
       "      <td>1975.000000</td>\n",
       "      <td>25.057360</td>\n",
       "    </tr>\n",
       "    <tr>\n",
       "      <th>50%</th>\n",
       "      <td>2007.000000</td>\n",
       "      <td>23.000000</td>\n",
       "      <td>184.000000</td>\n",
       "      <td>88.000000</td>\n",
       "      <td>27.626283</td>\n",
       "      <td>1980.000000</td>\n",
       "      <td>25.978680</td>\n",
       "    </tr>\n",
       "    <tr>\n",
       "      <th>75%</th>\n",
       "      <td>2013.000000</td>\n",
       "      <td>38.000000</td>\n",
       "      <td>188.000000</td>\n",
       "      <td>93.000000</td>\n",
       "      <td>30.839151</td>\n",
       "      <td>1985.000000</td>\n",
       "      <td>26.880935</td>\n",
       "    </tr>\n",
       "    <tr>\n",
       "      <th>max</th>\n",
       "      <td>2016.000000</td>\n",
       "      <td>97.000000</td>\n",
       "      <td>205.000000</td>\n",
       "      <td>117.000000</td>\n",
       "      <td>43.206023</td>\n",
       "      <td>1998.000000</td>\n",
       "      <td>30.930438</td>\n",
       "    </tr>\n",
       "  </tbody>\n",
       "</table>\n",
       "</div>"
      ],
      "text/plain": [
       "              year           no       height       weight          age  \\\n",
       "count  3278.000000  3278.000000  3278.000000  3278.000000  3278.000000   \n",
       "mean   2008.335570    29.231239   183.893228    87.945546    27.859656   \n",
       "std       5.093477    23.271197     5.480919     7.045355     4.403044   \n",
       "min    2001.000000     1.000000   165.000000    65.000000    17.686516   \n",
       "25%    2004.000000    12.000000   180.000000    83.000000    24.681725   \n",
       "50%    2007.000000    23.000000   184.000000    88.000000    27.626283   \n",
       "75%    2013.000000    38.000000   188.000000    93.000000    30.839151   \n",
       "max    2016.000000    97.000000   205.000000   117.000000    43.206023   \n",
       "\n",
       "            cohort          bmi  \n",
       "count  3278.000000  3278.000000  \n",
       "mean   1980.359365    25.989036  \n",
       "std       6.808705     1.481745  \n",
       "min    1963.000000    19.460881  \n",
       "25%    1975.000000    25.057360  \n",
       "50%    1980.000000    25.978680  \n",
       "75%    1985.000000    26.880935  \n",
       "max    1998.000000    30.930438  "
      ]
     },
     "execution_count": 49,
     "metadata": {},
     "output_type": "execute_result"
    }
   ],
   "source": [
    "df.describe()"
   ]
  },
  {
   "cell_type": "code",
   "execution_count": 50,
   "id": "c572334e",
   "metadata": {},
   "outputs": [
    {
     "name": "stdout",
     "output_type": "stream",
     "text": [
      "<class 'pandas.core.frame.DataFrame'>\n",
      "Int64Index: 3278 entries, 1 to 6291\n",
      "Data columns (total 13 columns):\n",
      " #   Column    Non-Null Count  Dtype  \n",
      "---  ------    --------------  -----  \n",
      " 0   year      3278 non-null   int64  \n",
      " 1   country   3278 non-null   object \n",
      " 2   no        3278 non-null   int64  \n",
      " 3   name      3278 non-null   object \n",
      " 4   position  3278 non-null   object \n",
      " 5   side      3277 non-null   object \n",
      " 6   height    3278 non-null   int64  \n",
      " 7   weight    3278 non-null   float64\n",
      " 8   birth     3278 non-null   object \n",
      " 9   club      3278 non-null   object \n",
      " 10  age       3278 non-null   float64\n",
      " 11  cohort    3278 non-null   int64  \n",
      " 12  bmi       3278 non-null   float64\n",
      "dtypes: float64(3), int64(4), object(6)\n",
      "memory usage: 358.5+ KB\n"
     ]
    }
   ],
   "source": [
    "df.info()"
   ]
  },
  {
   "cell_type": "code",
   "execution_count": 52,
   "id": "195424e1",
   "metadata": {},
   "outputs": [
    {
     "data": {
      "text/plain": [
       "USA    297\n",
       "CAN    269\n",
       "SWE    238\n",
       "RUS    219\n",
       "CZE    204\n",
       "FIN    200\n",
       "SVK    189\n",
       "GER    179\n",
       "SUI    163\n",
       "BLR    155\n",
       "LAT    138\n",
       "AUT    136\n",
       "DEN    132\n",
       "KAZ    124\n",
       "UKR    114\n",
       "SLO    113\n",
       "ITA    102\n",
       "NOR     98\n",
       "FRA     73\n",
       "JPN     69\n",
       "HUN     43\n",
       "POL     23\n",
       "Name: country, dtype: int64"
      ]
     },
     "execution_count": 52,
     "metadata": {},
     "output_type": "execute_result"
    }
   ],
   "source": [
    "df.country.value_counts()"
   ]
  },
  {
   "cell_type": "code",
   "execution_count": 57,
   "id": "528e52d5",
   "metadata": {},
   "outputs": [],
   "source": [
    "fin_h = df.loc[df.country == 'FIN'].height\n",
    "nor_h = df.loc[df.country == 'NOR'].height\n",
    "den_h = df.loc[df.country == 'DEN'].height\n",
    "\n",
    "fin_bmi = df.loc[df.country == 'FIN'].bmi\n",
    "nor_bmi = df.loc[df.country == 'NOR'].bmi\n",
    "den_bmi = df.loc[df.country == 'DEN'].bmi"
   ]
  },
  {
   "cell_type": "code",
   "execution_count": 63,
   "id": "1df398d0",
   "metadata": {},
   "outputs": [],
   "source": [
    "k = 3\n",
    "n = 3278 * 3\n",
    "\n",
    "k1 = k - 1\n",
    "k2 = n - k"
   ]
  },
  {
   "cell_type": "code",
   "execution_count": 66,
   "id": "c5ade823",
   "metadata": {},
   "outputs": [
    {
     "data": {
      "text/plain": [
       "2.9966453276970184"
      ]
     },
     "execution_count": 66,
     "metadata": {},
     "output_type": "execute_result"
    }
   ],
   "source": [
    "alpha = 0.05\n",
    "\n",
    "t = stats.f.ppf(1 - alpha, k1, k2)\n",
    "t"
   ]
  },
  {
   "cell_type": "markdown",
   "id": "0d1ae0c0",
   "metadata": {},
   "source": [
    "Итак, критическая область имеет вид:\n",
    "$$\\Omega_\\alpha = \\left( 2.997, +\\infty \\right)$$"
   ]
  },
  {
   "cell_type": "code",
   "execution_count": 67,
   "id": "73928160",
   "metadata": {},
   "outputs": [
    {
     "data": {
      "text/plain": [
       "F_onewayResult(statistic=3.734875379545475, pvalue=0.024659740563714175)"
      ]
     },
     "execution_count": 67,
     "metadata": {},
     "output_type": "execute_result"
    }
   ],
   "source": [
    "stats.f_oneway(fin_h, nor_h, den_h)"
   ]
  },
  {
   "cell_type": "code",
   "execution_count": 68,
   "id": "4a059e21",
   "metadata": {},
   "outputs": [
    {
     "data": {
      "text/plain": [
       "F_onewayResult(statistic=5.532919076049783, pvalue=0.004243187723739065)"
      ]
     },
     "execution_count": 68,
     "metadata": {},
     "output_type": "execute_result"
    }
   ],
   "source": [
    "stats.f_oneway(fin_bmi, nor_bmi, den_bmi)"
   ]
  },
  {
   "cell_type": "markdown",
   "id": "e8414b4d",
   "metadata": {},
   "source": [
    "Значения статистик попали в критическую область, поэтому заключаем, что отличие роста и bmi действительно являются статистически значимыми."
   ]
  }
 ],
 "metadata": {
  "kernelspec": {
   "display_name": "Python 3 (ipykernel)",
   "language": "python",
   "name": "python3"
  },
  "language_info": {
   "codemirror_mode": {
    "name": "ipython",
    "version": 3
   },
   "file_extension": ".py",
   "mimetype": "text/x-python",
   "name": "python",
   "nbconvert_exporter": "python",
   "pygments_lexer": "ipython3",
   "version": "3.9.7"
  }
 },
 "nbformat": 4,
 "nbformat_minor": 5
}
