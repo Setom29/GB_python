{
 "cells": [
  {
   "cell_type": "code",
   "execution_count": 128,
   "id": "e4d4aa90",
   "metadata": {},
   "outputs": [],
   "source": [
    "import numpy as np\n",
    "from itertools import product"
   ]
  },
  {
   "cell_type": "code",
   "execution_count": 22,
   "id": "9810ba68",
   "metadata": {},
   "outputs": [],
   "source": [
    "def arrangements(n, k):\n",
    "    return np.math.factorial(n) // np.math.factorial(n - k) \n",
    "def permutations(n):\n",
    "    return np.math.factorial(n)\n",
    "def combinations(n, k):\n",
    "    return np.math.factorial(n) // (np.math.factorial(n - k) * np.math.factorial(k))\n"
   ]
  },
  {
   "cell_type": "markdown",
   "id": "0adad58a",
   "metadata": {},
   "source": [
    "Задачи 1 и 2\n",
    "\n",
    "Контрольная работа состоит из пяти вопросов. На каждый вопрос приведено четыре варианта ответа, один из которых правильный. Случайная величина X задаёт число правильных ответов при простом угадывании. Найдите математическое ожидание данной случайной величины. Найдите дисперсию случайной величины X."
   ]
  },
  {
   "cell_type": "markdown",
   "id": "6ce5239f",
   "metadata": {},
   "source": [
    "Формула Бернулли: $ P(X = k) = C^{k}_{n} \\cdot (1 - p) ^{n - k} \\cdot p^{k}$, при $n = 5$, $p = \\frac{1}{4}$\n",
    "\n",
    "$P(X = 0) = C^{0}_{5} \\cdot (\\frac{3}{4}) ^{5} \\cdot p^{0} = \\frac{243}{1024}$\n",
    "\n",
    "$P(X = 0) = C^{1}_{5} \\cdot (\\frac{3}{4}) ^{4} \\cdot p^{1} = \\frac{405}{1024}$\n",
    "\n",
    "$P(X = 0) = C^{2}_{5} \\cdot (\\frac{3}{4}) ^{3} \\cdot p^{2} = \\frac{270}{1024}$\n",
    "\n",
    "$P(X = 0) = C^{3}_{5} \\cdot (\\frac{3}{4}) ^{2} \\cdot p^{3} = \\frac{90}{1024}$\n",
    "\n",
    "$P(X = 0) = C^{4}_{5} \\cdot (\\frac{3}{4}) ^{1} \\cdot p^{4} = \\frac{15}{1024}$\n",
    "\n",
    "$P(X = 0) = C^{5}_{5} \\cdot (\\frac{3}{4}) ^{0} \\cdot p^{5} = \\frac{1}{1024}$"
   ]
  },
  {
   "cell_type": "code",
   "execution_count": 40,
   "id": "71ccd628",
   "metadata": {},
   "outputs": [
    {
     "data": {
      "text/plain": [
       "array([0.23730469, 0.39550781, 0.26367188, 0.08789062, 0.01464844,\n",
       "       0.00097656])"
      ]
     },
     "execution_count": 40,
     "metadata": {},
     "output_type": "execute_result"
    }
   ],
   "source": [
    "p = 1/4\n",
    "arr = np.array([combinations(5, k) * (1 - p) ** (5 - k) * (p) ** (k) for k in range(6)])\n",
    "arr"
   ]
  },
  {
   "cell_type": "markdown",
   "id": "a642d883",
   "metadata": {},
   "source": [
    "Математическое ожидание:\n",
    "$$M(X) = 1.25$$"
   ]
  },
  {
   "cell_type": "code",
   "execution_count": 85,
   "id": "45aa52b7",
   "metadata": {},
   "outputs": [
    {
     "data": {
      "text/plain": [
       "1.25"
      ]
     },
     "execution_count": 85,
     "metadata": {},
     "output_type": "execute_result"
    }
   ],
   "source": [
    "m = np.arange(0, 6).dot(arr)\n",
    "m"
   ]
  },
  {
   "cell_type": "markdown",
   "id": "7c0e70f5",
   "metadata": {},
   "source": [
    "Дисперсия:\n",
    "$$D(X) = M((X-M(X))^2) = 0.9375$$"
   ]
  },
  {
   "cell_type": "code",
   "execution_count": 88,
   "id": "b3d90dc7",
   "metadata": {},
   "outputs": [
    {
     "data": {
      "text/plain": [
       "0.9375"
      ]
     },
     "execution_count": 88,
     "metadata": {},
     "output_type": "execute_result"
    }
   ],
   "source": [
    "((np.arange(0, 6) - m)**2).dot(arr).sum()"
   ]
  },
  {
   "cell_type": "markdown",
   "id": "deaa5822",
   "metadata": {},
   "source": [
    "Задача 3\n",
    "\n",
    "Пользователь получает в среднем 10 писем со спамом на свой почтовый ящик за сутки. Найти число N, такое, что с вероятностью 0.95 пользователь получит не более N писем со спамом за текущий день."
   ]
  },
  {
   "cell_type": "markdown",
   "id": "3a97b766",
   "metadata": {},
   "source": [
    "Формула Пуассона:\n",
    "$$P(X = k) = \\dfrac{\\lambda^k e^{-\\lambda}}{k!}$$\n",
    "Необходимо найти число K, такое что:\n",
    "$$P(X \\leq K) = \\displaystyle\\sum_{i = 0}^{K} \\dfrac{10^{i} e^{-10}}{i!} \\leq 0.95$$"
   ]
  },
  {
   "cell_type": "code",
   "execution_count": 138,
   "id": "b5e34765",
   "metadata": {},
   "outputs": [
    {
     "name": "stdout",
     "output_type": "stream",
     "text": [
      "K == 15\n"
     ]
    }
   ],
   "source": [
    "L, k, p = 10, -1, 0\n",
    "while p <=0.95:\n",
    "    k += 1\n",
    "    p += L ** k * np.math.exp(-L) / np.math.factorial(k)  \n",
    "print('K ==',k)"
   ]
  },
  {
   "cell_type": "markdown",
   "id": "a9cf18d1",
   "metadata": {},
   "source": [
    "Задача 4\n",
    "\n",
    "Производятся выстрелы по мишени. Вероятность попадания в мишень при одном выстреле равна 0.01. Сколько выстрелов нужно сделать чтобы быть уверенным с вероятностью 0.9, что хотя бы 6 раз будет совершено попадание?"
   ]
  },
  {
   "cell_type": "markdown",
   "id": "a1e31255",
   "metadata": {},
   "source": [
    "$$P(X \\geq 6)=1−P(X < \\, 6)$$\n",
    "\n",
    "Биномиальный закон распределения описывается __формулой Бернулли__:\n",
    "$$P(X = k) = C_n^k p^k (1 - p)^{n - k}$$\n",
    "Тогда:"
   ]
  },
  {
   "cell_type": "code",
   "execution_count": 139,
   "id": "24231967",
   "metadata": {},
   "outputs": [
    {
     "name": "stdout",
     "output_type": "stream",
     "text": [
      "P = 0.9003627121531355, n = 926\n"
     ]
    }
   ],
   "source": [
    "n, P, p = 5, 0, 0.01\n",
    "while P < 0.9:\n",
    "    n += 1\n",
    "    P = 1\n",
    "    summ = 0\n",
    "    for k in range(6):\n",
    "        P -= combinations(n, k) * (p ** k) * ((1 - p) ** (n - k))\n",
    "print(f'P = {P}, n = {n}')"
   ]
  }
 ],
 "metadata": {
  "kernelspec": {
   "display_name": "Python 3 (ipykernel)",
   "language": "python",
   "name": "python3"
  },
  "language_info": {
   "codemirror_mode": {
    "name": "ipython",
    "version": 3
   },
   "file_extension": ".py",
   "mimetype": "text/x-python",
   "name": "python",
   "nbconvert_exporter": "python",
   "pygments_lexer": "ipython3",
   "version": "3.9.7"
  }
 },
 "nbformat": 4,
 "nbformat_minor": 5
}
