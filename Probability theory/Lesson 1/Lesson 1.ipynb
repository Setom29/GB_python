{
 "cells": [
  {
   "cell_type": "code",
   "execution_count": 5,
   "metadata": {},
   "outputs": [],
   "source": [
    "import numpy as np\n",
    "import math"
   ]
  },
  {
   "cell_type": "code",
   "execution_count": 8,
   "metadata": {},
   "outputs": [],
   "source": [
    "def arrangements(n, k):\n",
    "    return np.math.factorial(n) // np.math.factorial(n - k) \n",
    "def permutations(n):\n",
    "    return np.math.factorial(n)\n",
    "def combinations(n, k):\n",
    "    return np.math.factorial(n) // (np.math.factorial(n - k) * np.math.factorial(k))"
   ]
  },
  {
   "cell_type": "markdown",
   "metadata": {},
   "source": [
    "Задача 1\n",
    "\n",
    "Имеется колода в 52 карты. Найти число возможностей вытянуть из неё 4 карты так, чтобы среди них был хотя бы один туз."
   ]
  },
  {
   "cell_type": "markdown",
   "metadata": {},
   "source": [
    "Решение: $$C_{4}^1 \\cdot C_{48}^3 + C_{4}^2 \\cdot C_{48}^2 + C_{4}^3 \\cdot C_{48}^1 + C_{4}^4 \\cdot C_{48}^0 = 76145$$"
   ]
  },
  {
   "cell_type": "code",
   "execution_count": 29,
   "metadata": {},
   "outputs": [
    {
     "data": {
      "text/plain": [
       "76145"
      ]
     },
     "execution_count": 29,
     "metadata": {},
     "output_type": "execute_result"
    }
   ],
   "source": [
    "combinations(4, 1) * combinations(48, 3) + combinations(4, 2) * combinations(48, 2) \\\n",
    "                        + combinations(4, 3) * combinations(48, 1) + combinations(4, 4) * combinations(48, 0)"
   ]
  },
  {
   "cell_type": "markdown",
   "metadata": {},
   "source": [
    "Задачи 2, 3\n",
    "\n",
    "Из 60 вопросов, входящих в экзаменационные билеты, студент знает 50. Случайным образом студент вытягивает 3 вопроса. Какова вероятность, что все выбранные вопросы знакомы студенту? Какова вероятность что два из трёх вопросов знакомы студенту?"
   ]
  },
  {
   "cell_type": "markdown",
   "metadata": {},
   "source": [
    "Решение 2: \n",
    "$$P(A) = \\frac{C_{50}^3}{C_{60}^{3}} = 0.573$$"
   ]
  },
  {
   "cell_type": "code",
   "execution_count": 30,
   "metadata": {},
   "outputs": [
    {
     "data": {
      "text/plain": [
       "0.5727644652250146"
      ]
     },
     "execution_count": 30,
     "metadata": {},
     "output_type": "execute_result"
    }
   ],
   "source": [
    "combinations(50, 3) / combinations(60, 3)"
   ]
  },
  {
   "cell_type": "markdown",
   "metadata": {},
   "source": [
    "Решение 3: \n",
    "$$P(A) = \\frac{C_{50}^2 \\cdot C_{10}^{1}}{C_{60}^{3}} = 0.358$$"
   ]
  },
  {
   "cell_type": "code",
   "execution_count": 34,
   "metadata": {},
   "outputs": [
    {
     "data": {
      "text/plain": [
       "0.35797779076563413"
      ]
     },
     "execution_count": 34,
     "metadata": {},
     "output_type": "execute_result"
    }
   ],
   "source": [
    "(combinations(50, 2) * combinations(10, 1)) / combinations(60, 3)"
   ]
  },
  {
   "cell_type": "markdown",
   "metadata": {},
   "source": [
    "Задача 4\n",
    "\n",
    "Допустим, имеется некоторая очень редкая болезнь (поражает 0.1% населения). Вы приходите к врачу, вам делают тест на эту болезнь, и тест оказывается положительным. Врач говорит вам, что этот тест верно выявляет 99% больных этой болезнью и всего лишь в 1% случаев даёт ложный положительный ответ.\n",
    "\n",
    "Вопрос: какова вероятность, что вы действительно больны ей?"
   ]
  },
  {
   "cell_type": "markdown",
   "metadata": {},
   "source": [
    "Решение 4:\n",
    "\n",
    "$P(A) = 0.01$  - Вероятность заболеть.\n",
    "\n",
    "$P(\\overline{A}) = 0.99$ - Вероятность не заболеть.\n",
    "\n",
    "$P(B|A) = 0.99$ - Вероятность истинного положительного результата теста в случае, когда пациент действительно болен.\n",
    "\n",
    "$P(B|\\overline{A}) = 0.01$ - Вероятность ложного положительного результата теста в случае, когда пациент здоров.\n",
    "\n",
    "$$P(A|B) = \\frac{P(B|A) \\cdot P(A)}{P(B|A) \\cdot P(A) + P(B|\\overline{A}) \\cdot P(\\overline{A})} = 0.5$$\n"
   ]
  },
  {
   "cell_type": "code",
   "execution_count": 38,
   "metadata": {},
   "outputs": [
    {
     "data": {
      "text/plain": [
       "0.5"
      ]
     },
     "execution_count": 38,
     "metadata": {},
     "output_type": "execute_result"
    }
   ],
   "source": [
    "0.99 * 0.01 / (0.99 * 0.01 + 0.01 * 0.99)"
   ]
  }
 ],
 "metadata": {
  "kernelspec": {
   "display_name": "Python 3",
   "language": "python",
   "name": "python3"
  },
  "language_info": {
   "codemirror_mode": {
    "name": "ipython",
    "version": 3
   },
   "file_extension": ".py",
   "mimetype": "text/x-python",
   "name": "python",
   "nbconvert_exporter": "python",
   "pygments_lexer": "ipython3",
   "version": "3.7.4"
  }
 },
 "nbformat": 4,
 "nbformat_minor": 2
}
