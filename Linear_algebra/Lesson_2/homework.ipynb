{
 "cells": [
  {
   "cell_type": "markdown",
   "id": "53c494f0",
   "metadata": {},
   "source": [
    "Все задания рекомендуется делать вручную, затем проверяя полученные результаты с использованием numpy.\n",
    "\n",
    "__1.__ Установить, какие произведения матриц $AB$ и $BA$ определены, и найти размерности полученных матриц:\n",
    "\n",
    "   а) $A$ — матрица $4\\times 2$, $B$ — матрица $4\\times 2$;\n",
    "    \n",
    "   б) $A$ — матрица $2\\times 5$, $B$ — матрица $5\\times 3$;\n",
    "    \n",
    "   в) $A$ — матрица $8\\times 3$, $B$ — матрица $3\\times 8$;\n",
    "    \n",
    "   г) $A$ — квадратная матрица $4\\times 4$, $B$ — квадратная матрица $4\\times 4$.\n",
    "    \n",
    "__2.__ Найти сумму и произведение матриц $A=\\begin{pmatrix}\n",
    "1 & -2\\\\ \n",
    "3 & 0\n",
    "\\end{pmatrix}$ и $B=\\begin{pmatrix}\n",
    "4 & -1\\\\ \n",
    "0 & 5\n",
    "\\end{pmatrix}.$\n",
    "\n",
    "__3.__ Из закономерностей сложения и умножения матриц на число можно сделать вывод, что матрицы одного размера образуют линейное пространство. Вычислить линейную комбинацию $3A-2B+4C$ для матриц $A=\\begin{pmatrix}\n",
    "1 & 7\\\\ \n",
    "3 & -6\n",
    "\\end{pmatrix}$, $B=\\begin{pmatrix}\n",
    "0 & 5\\\\ \n",
    "2 & -1\n",
    "\\end{pmatrix}$, $C=\\begin{pmatrix}\n",
    "2 & -4\\\\ \n",
    "1 & 1\n",
    "\\end{pmatrix}.$\n",
    "    \n",
    "__4.__ Дана матрица $A=\\begin{pmatrix}\n",
    "4 & 1\\\\ \n",
    "5 & -2\\\\ \n",
    "2 & 3\n",
    "\\end{pmatrix}$.\n",
    "Вычислить $AA^{T}$ и $A^{T}A$.\n",
    "\n",
    "__5*.__ Написать на Python функцию для перемножения двух произвольных матриц, не используя NumPy."
   ]
  },
  {
   "cell_type": "markdown",
   "id": "0d81217d",
   "metadata": {},
   "source": [
    "1)\n",
    "\n",
    "$(4 \\times 2) \\times (4 \\times 2)$ - произведение не определено.   \n",
    "$(2 \\times 5) \\times (5 \\times 3) => (2\\times3)$ | $(5 \\times 3) \\times (2 \\times 5)$ - произведение не определено.     \n",
    "$(8 \\times 3) \\times (3 \\times 8) => (8\\times8)$ | $(3 \\times 8) \\times (8 \\times 3) => (3\\times3)$   \n",
    "Произведение квадратных матриц дает квадратную матрицу той же размерности."
   ]
  },
  {
   "cell_type": "markdown",
   "id": "f0a29031",
   "metadata": {},
   "source": [
    "2) \n",
    "$A=\\begin{pmatrix}\n",
    "1 & -2\\\\ \n",
    "3 & 0\n",
    "\\end{pmatrix}$ и $B=\\begin{pmatrix}\n",
    "4 & -1\\\\ \n",
    "0 & 5\n",
    "\\end{pmatrix}.$  \n",
    "$A + B =\\begin{pmatrix}\n",
    "5 & -3\\\\ \n",
    "3 & 5\n",
    "\\end{pmatrix}\n",
    "$  \n",
    "$A * B =\\begin{pmatrix}\n",
    "4 & -11\\\\ \n",
    "12 & -3\n",
    "\\end{pmatrix}\n",
    "$ "
   ]
  },
  {
   "cell_type": "markdown",
   "id": "bd16dcf2",
   "metadata": {},
   "source": [
    "3)\n",
    "$$\n",
    "3\\begin{pmatrix}\n",
    "1 & 7\\\\\n",
    "3 & -6\n",
    "\\end{pmatrix}-\n",
    "2\\begin{pmatrix}\n",
    "0 & 5\\\\ \n",
    "2 & -1\n",
    "\\end{pmatrix}+\n",
    "4\\begin{pmatrix}\n",
    "2 & -4\\\\\n",
    "1 & 1\n",
    "\\end{pmatrix}=\n",
    "\\begin{pmatrix}\n",
    "3 & 21\\\\\n",
    "9 & -18\n",
    "\\end{pmatrix}+\n",
    "\\begin{pmatrix}\n",
    "0 & -10\\\\\n",
    "-4 & 2\n",
    "\\end{pmatrix}+\n",
    "\\begin{pmatrix}\n",
    "8 & -16\\\\\n",
    "4 & 4\n",
    "\\end{pmatrix}=\n",
    "\\begin{pmatrix}\n",
    "11 & -5\\\\\n",
    "9 & 12\n",
    "\\end{pmatrix}\n",
    "$$"
   ]
  },
  {
   "cell_type": "markdown",
   "id": "c45599c4",
   "metadata": {},
   "source": [
    "4)\n",
    "$\n",
    "A = \\begin{pmatrix}\n",
    "4 & 1\\\\ \n",
    "5 & -2\\\\\n",
    "2 & 3\n",
    "\\end{pmatrix}\n",
    "A^T = \\begin{pmatrix}\n",
    "4 & 5 & 2\\\\ \n",
    "1 & -2 & 3\n",
    "\\end{pmatrix}\n",
    "$"
   ]
  },
  {
   "cell_type": "markdown",
   "id": "7cc90db8",
   "metadata": {},
   "source": [
    "$\n",
    "AA^T = \\begin{pmatrix}\n",
    "17 & 18 & 11\\\\ \n",
    "18 & 29 & 4\\\\\n",
    "11 & 4 & 13\n",
    "\\end{pmatrix}\n",
    "$   \n",
    "$A^TA = \\begin{pmatrix}\n",
    "45 & 0\\\\ \n",
    "0 & 14\n",
    "\\end{pmatrix}$"
   ]
  },
  {
   "cell_type": "markdown",
   "id": "644610ec",
   "metadata": {},
   "source": [
    "5)"
   ]
  },
  {
   "cell_type": "code",
   "execution_count": 3,
   "id": "143255b0",
   "metadata": {},
   "outputs": [],
   "source": [
    "def matrix_mult(A, B):\n",
    "    n, m = len(A), len(B[0])\n",
    "    if len(A[0]) != len(B):\n",
    "        return \n",
    "    C = []\n",
    "    for i in range(n):\n",
    "        C.append([])\n",
    "        for j in range(m):\n",
    "            C[i].append(sum([A[i][k] * B[k][j] for k in range(len(A[0]))]))\n",
    "    return C\n",
    "            \n",
    "        "
   ]
  },
  {
   "cell_type": "code",
   "execution_count": 9,
   "id": "3a21fd06",
   "metadata": {},
   "outputs": [
    {
     "data": {
      "text/plain": [
       "[[4, -11], [12, -3]]"
      ]
     },
     "execution_count": 9,
     "metadata": {},
     "output_type": "execute_result"
    }
   ],
   "source": [
    "A = [[1, -2], [3, 0]]\n",
    "B = [[4, -1], [0, 5]]\n",
    "matrix_mult(A, B)"
   ]
  },
  {
   "cell_type": "markdown",
   "id": "204b85a6",
   "metadata": {},
   "source": [
    "Все задания рекомендуется выполнять вручную, затем проверяя полученные результаты с использованием Numpy.\n",
    "\n",
    "__1.__ Вычислить определитель:\n",
    "\n",
    "   a)\n",
    "\n",
    "$$\\begin{vmatrix}\n",
    "sinx & -cosx\\\\ \n",
    "cosx & sinx\n",
    "\\end{vmatrix};$$\n",
    "\n",
    "   б)\n",
    "    \n",
    "$$\\begin{vmatrix}\n",
    "4 & 2 & 3\\\\ \n",
    "0 & 5 & 1\\\\ \n",
    "0 & 0 & 9\n",
    "\\end{vmatrix};$$\n",
    "    \n",
    "   в)\n",
    "\n",
    "$$\\begin{vmatrix}\n",
    "1 & 2 & 3\\\\ \n",
    "4 & 5 & 6\\\\ \n",
    "7 & 8 & 9\n",
    "\\end{vmatrix}.$$\n",
    "\n",
    "\n",
    "__2.__ Определитель матрицы $A$ равен $4$. Найти:\n",
    "\n",
    "   а) $det(A^{2})$;\n",
    "    \n",
    "   б) $det(A^{T})$;\n",
    "    \n",
    "   в) $det(2A)$.\n",
    "   \n",
    "__3.__  Доказать, что матрица\n",
    "\n",
    "$$\\begin{pmatrix}\n",
    "-2 & 7 & -3\\\\ \n",
    "4 & -14 & 6\\\\ \n",
    "-3 & 7 & 13\n",
    "\\end{pmatrix}$$\n",
    "   \n",
    "вырожденная.\n",
    "\n",
    "__4.__ Найти ранг матрицы:\n",
    "\n",
    "   а) $\\begin{pmatrix}\n",
    "1 & 2 & 3\\\\ \n",
    "1 & 1 & 1\\\\ \n",
    "2 & 3 & 4\n",
    "\\end{pmatrix};$\n",
    "\n",
    "   б) $\\begin{pmatrix}\n",
    "0 & 0 & 2 & 1\\\\ \n",
    "0 & 0 & 2 & 2\\\\ \n",
    "0 & 0 & 4 & 3\\\\ \n",
    "2 & 3 & 5 & 6\n",
    "\\end{pmatrix}.$"
   ]
  },
  {
   "cell_type": "markdown",
   "id": "b00cd8b4",
   "metadata": {},
   "source": [
    "1) \n",
    "\n",
    "a) $det(A) = sin^2x + cos^2x = 1$   \n",
    "b) $det(A) = 4 * 5 * 9 = 180$  \n",
    "c) $det(A) = 1 * (45 - 48) - 2 * (36 - 42) + 3 * (32 - 35) = -3 + 12 - 9 = 0$"
   ]
  },
  {
   "cell_type": "code",
   "execution_count": 1,
   "id": "bd2acdf3",
   "metadata": {},
   "outputs": [],
   "source": [
    "import numpy as np"
   ]
  },
  {
   "cell_type": "markdown",
   "id": "e59e103b",
   "metadata": {},
   "source": [
    "2)  \n",
    "$det(A) = 4 => $  \n",
    "a) $det(A^2) = det(A.A) = det(A)*det(A) = 16$  \n",
    "b) $det(A^T) = det(A) = 4$  \n",
    "c) $det(2A) = 4*det(A) = 16$"
   ]
  },
  {
   "cell_type": "markdown",
   "id": "69990eee",
   "metadata": {},
   "source": [
    "3) "
   ]
  },
  {
   "cell_type": "code",
   "execution_count": 17,
   "id": "69704fac",
   "metadata": {},
   "outputs": [
    {
     "data": {
      "text/plain": [
       "0.0"
      ]
     },
     "execution_count": 17,
     "metadata": {},
     "output_type": "execute_result"
    }
   ],
   "source": [
    "np.linalg.det([[-2, 7, -3], [4, -14, 6], [-3, 7, 13]])"
   ]
  },
  {
   "cell_type": "markdown",
   "id": "ad0ae30b",
   "metadata": {},
   "source": [
    "Определитель матрицы равен нулю, а значит матрица вырожденная."
   ]
  },
  {
   "cell_type": "markdown",
   "id": "b8f0e636",
   "metadata": {},
   "source": [
    "4) "
   ]
  },
  {
   "cell_type": "markdown",
   "id": "dd4fae5c",
   "metadata": {},
   "source": [
    "а) Определитель матрицы равен нулю, так как 3 строка матрицы равна сумме двух других. Существует минор ранга 2 с ненулевым определителем. Это значит что данная матрицы ранга 2."
   ]
  },
  {
   "cell_type": "markdown",
   "id": "ab41d934",
   "metadata": {},
   "source": [
    "б) Определитель матрицы равен нулю, так как 3 строка матрицы равна сумме 1 и 2. Существует минор ранга 3 с ненулевым определителем. Это значит что данная матрицы 3 ранга."
   ]
  },
  {
   "cell_type": "code",
   "execution_count": null,
   "id": "b467be79",
   "metadata": {},
   "outputs": [],
   "source": []
  }
 ],
 "metadata": {
  "kernelspec": {
   "display_name": "Python 3 (ipykernel)",
   "language": "python",
   "name": "python3"
  },
  "language_info": {
   "codemirror_mode": {
    "name": "ipython",
    "version": 3
   },
   "file_extension": ".py",
   "mimetype": "text/x-python",
   "name": "python",
   "nbconvert_exporter": "python",
   "pygments_lexer": "ipython3",
   "version": "3.9.7"
  }
 },
 "nbformat": 4,
 "nbformat_minor": 5
}
