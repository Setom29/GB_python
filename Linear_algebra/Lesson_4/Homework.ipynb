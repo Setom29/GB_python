{
 "cells": [
  {
   "cell_type": "markdown",
   "id": "7f39909b",
   "metadata": {},
   "source": [
    "__1.__ Решите систему уравнений методом Гаусса:\n",
    "\n",
    "$$\\begin{cases}\n",
    "x_{1}+x_{2}-x_{3}-2x_{4}=0, \\\\\n",
    "2x_{1}+x_{2}-x_{3}+x_{4}=-2, \\\\\n",
    "x_{1}+x_{2}-3x_{3}+x_{4}=4.\n",
    "\\end{cases}$$\n",
    "\n",
    "__2.__ Проверьте на совместность и выясните, сколько решений будет иметь система линейных уравнений:\n",
    "\n",
    "   а) $\\begin{cases}\n",
    "3x_{1}-x_{2}+x_{3}=4, \\\\\n",
    "2x_{1}-5x_{2}-3x_{3}=-17, \\\\\n",
    "x_{1}+x_{2}-x_{3}=0;\n",
    "\\end{cases}$\n",
    "    \n",
    "   б) $\\begin{cases}\n",
    "2x_{1}-4x_{2}+6x_{3}=1, \\\\\n",
    "x_{1}-2x_{2}+3x_{3}=-2, \\\\\n",
    "3x_{1}-6x_{2}+9x_{3}=5;\n",
    "\\end{cases}$\n",
    "    \n",
    "   в) $\\begin{cases}\n",
    "x_{1}+2x_{2}+5x_{3}=4, \\\\\n",
    "3x_{1}+x_{2}-8x_{3}=-2. \n",
    "\\end{cases}$\n",
    "\n",
    "\n",
    "__3.__ Проверьте на совместность и выясните, сколько решений будет иметь система линейных уравнений, заданная расширенной матрицей:\n",
    "\n",
    "$$\\tilde{A}=\\begin{pmatrix}\n",
    "\\left.\\begin{matrix}\n",
    "1 & 3 & -2 & 4\\\\ \n",
    "0 & 5 & 0 & 1\\\\ \n",
    "0 & 0 & 3 & 0\\\\ \n",
    "0 & 0 & 0 & 2\n",
    "\\end{matrix}\\right|\n",
    "\\begin{matrix}\n",
    "3\\\\ \n",
    "2\\\\\n",
    "4\\\\\n",
    "1\n",
    "\\end{matrix}\n",
    "\\end{pmatrix}.$$\n",
    "\n",
    "__4.__ Дана система линейных уравнений, заданная расширенной матрицей:\n",
    "\n",
    "$$\\tilde{A}=\\begin{pmatrix}\n",
    "\\left.\\begin{matrix}\n",
    "1 & 2 & 3\\\\ \n",
    "4 & 5 & 6\\\\ \n",
    "7 & 8 & 9\n",
    "\\end{matrix}\\right|\n",
    "\\begin{matrix}\n",
    "a\\\\ \n",
    "b\\\\\n",
    "c\n",
    "\\end{matrix}\n",
    "\\end{pmatrix}.$$\n",
    "\n",
    "Найдите соотношение между параметрами $a$, $b$ и $c$, при которых система считается несовместной."
   ]
  },
  {
   "cell_type": "markdown",
   "id": "f5327b4c",
   "metadata": {},
   "source": [
    "№1"
   ]
  },
  {
   "cell_type": "markdown",
   "id": "d2d039df",
   "metadata": {},
   "source": [
    "$$\n",
    "\\begin{pmatrix}\n",
    "\\left.\\begin{matrix}\n",
    "1 & 1 & -1 & -1\\\\ \n",
    "2 & 1 & -1 & 1\\\\ \n",
    "1 & 1 & -3 & 1\n",
    "\\end{matrix}\\right|\n",
    "\\begin{matrix}\n",
    "0\\\\ \n",
    "-2\\\\\n",
    "4\n",
    "\\end{matrix}\n",
    "\\end{pmatrix} = \n",
    "\\begin{pmatrix}\n",
    "\\left.\\begin{matrix}\n",
    "1 & 1 & -1 & -1\\\\ \n",
    "0 & -1 & 1 & 3\\\\ \n",
    "0 & 0 & -2 & 2\n",
    "\\end{matrix}\\right|\n",
    "\\begin{matrix}\n",
    "0\\\\ \n",
    "-2\\\\\n",
    "4\n",
    "\\end{matrix}\n",
    "\\end{pmatrix}\n",
    "$$"
   ]
  },
  {
   "cell_type": "markdown",
   "id": "ca653329",
   "metadata": {},
   "source": [
    "Данная СЛАУ неопределенная и имеет бесконечное количество решений."
   ]
  },
  {
   "cell_type": "markdown",
   "id": "c4cd94e3",
   "metadata": {},
   "source": [
    "№2"
   ]
  },
  {
   "cell_type": "markdown",
   "id": "64bcd685",
   "metadata": {},
   "source": [
    "а) $$\\begin{cases}\n",
    "3x_{1}-x_{2}+x_{3}=4 \\\\\n",
    "2x_{1}-5x_{2}-3x_{3}=-17 \\\\\n",
    "x_{1}+x_{2}-x_{3}=0\n",
    "\\end{cases} =>\n",
    "\\begin{cases}\n",
    "4x_{1}=4 \\\\\n",
    "-x_{1}-8x_{2}=-17 \\\\\n",
    "x_{1}+x_{2}-x_{3}=0\n",
    "\\end{cases} =>\n",
    "\\begin{cases}\n",
    "x_{1}=1 \\\\\n",
    "-8x_{2}=-16 \\\\\n",
    "1+x_{2}-x_{3}=0\n",
    "\\end{cases} =>\n",
    "\\begin{cases}\n",
    "x_{1}=1 \\\\\n",
    "x_{2}=-2 \\\\\n",
    "1+x_{2}-x_{3}=0\n",
    "\\end{cases} =>\n",
    "\\begin{cases}\n",
    "x_{1}=1 \\\\\n",
    "x_{2}=-2 \\\\\n",
    "x_{3}=-1\n",
    "\\end{cases}\n",
    "$$"
   ]
  },
  {
   "cell_type": "markdown",
   "id": "d8e65ca9",
   "metadata": {},
   "source": [
    "б) Ранг расширенной матрицы не равен рангу основной матрицы, значит система несовместна."
   ]
  },
  {
   "cell_type": "markdown",
   "id": "8f4bd258",
   "metadata": {},
   "source": [
    "в) Данная СЛАУ неопределенная и имеет бесконечное количество решений."
   ]
  },
  {
   "cell_type": "markdown",
   "id": "ab26967a",
   "metadata": {},
   "source": [
    "№3"
   ]
  },
  {
   "cell_type": "markdown",
   "id": "ea17a793",
   "metadata": {},
   "source": [
    "Ранг основной матрицы равен рангу расширенной, СЛАУ имеет единственное решение:\n",
    "$$\n",
    "\\begin{cases}\n",
    "x_{1}=\\frac{83}{30} \\\\\n",
    "x_{2}=\\frac{3}{10} \\\\\n",
    "x_{3}=\\frac{4}{3}\\\\\n",
    "x_{4}=\\frac{1}{2}\n",
    "\\end{cases}\n",
    "$$"
   ]
  },
  {
   "cell_type": "markdown",
   "id": "5941f24d",
   "metadata": {},
   "source": [
    "№4"
   ]
  },
  {
   "cell_type": "code",
   "execution_count": 1,
   "id": "c38492d8",
   "metadata": {},
   "outputs": [],
   "source": [
    "import numpy as np"
   ]
  },
  {
   "cell_type": "code",
   "execution_count": 8,
   "id": "81f67c72",
   "metadata": {},
   "outputs": [
    {
     "data": {
      "text/plain": [
       "0.0"
      ]
     },
     "execution_count": 8,
     "metadata": {},
     "output_type": "execute_result"
    }
   ],
   "source": [
    "np.round(np.linalg.det([[1,2,3],[4,5,6],[7,8,9]]), 8)"
   ]
  },
  {
   "cell_type": "markdown",
   "id": "4285c5e6",
   "metadata": {},
   "source": [
    "$$\\begin{pmatrix}\n",
    "\\left.\\begin{matrix}\n",
    "1 & 2 & 3\\\\ \n",
    "4 & 5 & 6\\\\ \n",
    "7 & 8 & 9\n",
    "\\end{matrix}\\right|\n",
    "\\begin{matrix}\n",
    "a\\\\ \n",
    "b\\\\\n",
    "c\n",
    "\\end{matrix}\n",
    "\\end{pmatrix} \\sim \n",
    "\\begin{pmatrix}\n",
    "\\left.\\begin{matrix}\n",
    "7 & 8 & 9\\\\ \n",
    "0 & \\frac{6}{7} & \\frac{12}{7}\\\\ \n",
    "0 & 0 & 0 \n",
    "\\end{matrix}\\right|\n",
    "\\begin{matrix}\n",
    "z\\\\ \n",
    "x - \\frac{z}{7}\\\\\n",
    "y - \\frac{4 z}{7} + \\frac{-x + \\frac{z}{7}}{2}\n",
    "\\end{matrix}\n",
    "\\end{pmatrix}\n",
    "$$"
   ]
  },
  {
   "cell_type": "markdown",
   "id": "d88993b0",
   "metadata": {},
   "source": [
    "Чтобы система была несовместной, выражение $y - \\frac{4 z}{7} + \\frac{-x + \\frac{z}{7}}{2}$ должно быть не равно нулю."
   ]
  },
  {
   "cell_type": "markdown",
   "id": "d65c66b1",
   "metadata": {},
   "source": [
    "__1.__ Решите систему уравнений методом Крамера:\n",
    "\n",
    "   а) $\\begin{cases}\n",
    "x_{1}-2x_{2}=1 \\\\\n",
    "3x_{1}-4x_{2}=7\n",
    "\\end{cases}$\n",
    "    \n",
    "   б) $\\begin{cases}\n",
    "2x_{1}-x_{2}+5x_{3}=10 \\\\\n",
    "x_{1}+x_{2}-3x_{3}=-2 \\\\\n",
    "2x_{1}+4x_{2}+x_{3}=1\n",
    "\\end{cases}$\n",
    "\n",
    "__2*.__ Найдите $L$-матрицу $LU$-разложения для матрицы коэффициентов:\n",
    "\n",
    "   а)$$\\begin{pmatrix}\n",
    "1 & 2 & 4 \\\\ \n",
    "2 & 9 & 12 \\\\ \n",
    "3 & 26 & 30\n",
    "\\end{pmatrix}$$\n",
    "    \n",
    "   б)$$\\begin{pmatrix}\n",
    "1 & 1 & 2 & 4\\\\ \n",
    "2 & 5 & 8 & 9\\\\ \n",
    "3 & 18 & 29 & 18\\\\\n",
    "4 & 22 & 53 & 33\n",
    "\\end{pmatrix}$$\n",
    "    \n",
    "__3*.__ Решите систему линейных уравнений методом $LU$-разложения:\n",
    "\n",
    "$$\\begin{cases}\n",
    "2x_{1}+x_{2}+3x_{3}=1 \\\\\n",
    "11x_{1}+7x_{2}+5x_{3}=-6 \\\\\n",
    "9x_{1}+8x_{2}+4x_{3}=-5\n",
    "\\end{cases}$$\n",
    "\n",
    "__4*.__ Решите систему линейных уравнений методом Холецкого:\n",
    "\n",
    "$$\\begin{cases}\n",
    "81x_{1}-45x_{2}+45x_{3}=531 \\\\\n",
    "-45x_{1}+50x_{2}-15x_{3}=-460 \\\\\n",
    "45x_{1}-15x_{2}+38x_{3}=193\n",
    "\\end{cases}$$\n",
    "\n",
    "__5*.__ Напишите на Python программу с реализацией одного из изученных алгоритмов решения СЛАУ."
   ]
  },
  {
   "cell_type": "markdown",
   "id": "b94c9bae",
   "metadata": {},
   "source": [
    "1.a)"
   ]
  },
  {
   "cell_type": "code",
   "execution_count": 10,
   "id": "eda267d6",
   "metadata": {},
   "outputs": [],
   "source": [
    "d = np.linalg.det([[1, -2],[3, -4]])\n",
    "d1 = np.linalg.det([[1, -2],[7, -4]])\n",
    "d2 = np.linalg.det([[1, 1],[3, 7]])"
   ]
  },
  {
   "cell_type": "code",
   "execution_count": 13,
   "id": "04a8204c",
   "metadata": {},
   "outputs": [
    {
     "data": {
      "text/plain": [
       "5.0"
      ]
     },
     "execution_count": 13,
     "metadata": {},
     "output_type": "execute_result"
    }
   ],
   "source": [
    "np.round(d1 / d, 6)"
   ]
  },
  {
   "cell_type": "code",
   "execution_count": 14,
   "id": "c453720c",
   "metadata": {},
   "outputs": [
    {
     "data": {
      "text/plain": [
       "2.0"
      ]
     },
     "execution_count": 14,
     "metadata": {},
     "output_type": "execute_result"
    }
   ],
   "source": [
    "np.round(d2 / d, 6)"
   ]
  },
  {
   "cell_type": "markdown",
   "id": "5c271140",
   "metadata": {},
   "source": [
    "x_1 = 5, x_2 = 2"
   ]
  },
  {
   "cell_type": "markdown",
   "id": "ffa39dab",
   "metadata": {},
   "source": [
    "1.b)"
   ]
  },
  {
   "cell_type": "code",
   "execution_count": 15,
   "id": "a29b68ee",
   "metadata": {},
   "outputs": [
    {
     "data": {
      "text/plain": [
       "42.99999999999998"
      ]
     },
     "execution_count": 15,
     "metadata": {},
     "output_type": "execute_result"
    }
   ],
   "source": [
    "d = np.linalg.det([[2, -1, 5],[1, 1, -3], [2, 4, 1]])\n",
    "d1 = np.linalg.det([[10, -1, 5],[-2, 1, -3], [1, 4, 1]])\n",
    "d2 = np.linalg.det([[2, 10, 5],[1, -2, -3], [2, 1, 1]])\n",
    "d3 = np.linalg.det([[2, -1, 10],[1, 1, -2], [2, 4, 1]])\n",
    "d"
   ]
  },
  {
   "cell_type": "code",
   "execution_count": 16,
   "id": "ba689b62",
   "metadata": {},
   "outputs": [
    {
     "data": {
      "text/plain": [
       "2.0"
      ]
     },
     "execution_count": 16,
     "metadata": {},
     "output_type": "execute_result"
    }
   ],
   "source": [
    "np.round(d1 / d, 6)"
   ]
  },
  {
   "cell_type": "code",
   "execution_count": 17,
   "id": "c54c5132",
   "metadata": {},
   "outputs": [
    {
     "data": {
      "text/plain": [
       "-1.0"
      ]
     },
     "execution_count": 17,
     "metadata": {},
     "output_type": "execute_result"
    }
   ],
   "source": [
    "np.round(d2 / d, 6)"
   ]
  },
  {
   "cell_type": "code",
   "execution_count": 18,
   "id": "04974043",
   "metadata": {},
   "outputs": [
    {
     "data": {
      "text/plain": [
       "1.0"
      ]
     },
     "execution_count": 18,
     "metadata": {},
     "output_type": "execute_result"
    }
   ],
   "source": [
    "np.round(d3 / d, 6)"
   ]
  },
  {
   "cell_type": "markdown",
   "id": "89950ae3",
   "metadata": {},
   "source": [
    "x_1 = 2, x_2 = -1, x_3 = 1"
   ]
  },
  {
   "cell_type": "markdown",
   "id": "b852a0ca",
   "metadata": {},
   "source": [
    "№2"
   ]
  },
  {
   "cell_type": "markdown",
   "id": "2adab988",
   "metadata": {},
   "source": [
    "a)"
   ]
  },
  {
   "cell_type": "markdown",
   "id": "ffec5697",
   "metadata": {},
   "source": [
    "Матрица коеффициентов:\n",
    "$$\\begin{pmatrix}\n",
    "1 & 2 & 4 \\\\ \n",
    "2 & 9 & 12 \\\\ \n",
    "3 & 26 & 30\n",
    "\\end{pmatrix} \\sim\n",
    "\\begin{pmatrix}\n",
    "1 & 2 & 4 \\\\ \n",
    "0 & 5 & 4 \\\\ \n",
    "0 & 20 & 18\n",
    "\\end{pmatrix} \\sim\n",
    "\\begin{pmatrix}\n",
    "1 & 2 & 4 \\\\ \n",
    "0 & 5 & 4 \\\\ \n",
    "0 & 0 & 2\n",
    "\\end{pmatrix}\n",
    "$$\n",
    "\n",
    "Матрица $L$:\n",
    "\n",
    "$$\\begin{pmatrix}\n",
    "1 & 0 & 0 \\\\ \n",
    "l_{21} & 1 & 0 \\\\ \n",
    "l_{31} & l_{32} & 1\n",
    "\\end{pmatrix} \\sim\n",
    "\\begin{pmatrix}\n",
    "1 & 0 & 0 \\\\ \n",
    "2 & 1 & 0 \\\\ \n",
    "3 & l_{32} & 1\n",
    "\\end{pmatrix} \\sim\n",
    "\\begin{pmatrix}\n",
    "1 & 0 & 0 \\\\ \n",
    "2 & 1 & 0 \\\\ \n",
    "3 & 4 & 1\n",
    "\\end{pmatrix}\n",
    "$$"
   ]
  },
  {
   "cell_type": "markdown",
   "id": "29988e90",
   "metadata": {},
   "source": [
    "b) "
   ]
  },
  {
   "cell_type": "markdown",
   "id": "e70323a6",
   "metadata": {},
   "source": [
    "Матрица коеффициентов:\n",
    "$$\n",
    "\\begin{pmatrix}\n",
    "1 & 1 & 2 & 4\\\\ \n",
    "2 & 5 & 8 & 9\\\\ \n",
    "3 & 18 & 29 & 18\\\\\n",
    "4 & 22 & 53 & 33\n",
    "\\end{pmatrix} \\sim\n",
    "\\begin{pmatrix}\n",
    "1 & 1 & 2 & 4\\\\ \n",
    "0 & 3 & 4 & 1\\\\ \n",
    "0 & 15 & 23 & 6\\\\\n",
    "0 & 18 & 45 & 17\n",
    "\\end{pmatrix} \\sim\n",
    "\\begin{pmatrix}\n",
    "1 & 1 & 2 & 4\\\\ \n",
    "0 & 3 & 4 & 1\\\\ \n",
    "0 & 0 & 3 & 1\\\\\n",
    "0 & 0 & 21 & 11\n",
    "\\end{pmatrix} \\sim \n",
    "\\begin{pmatrix}\n",
    "1 & 1 & 2 & 4\\\\ \n",
    "0 & 3 & 4 & 1\\\\ \n",
    "0 & 0 & 3 & 1\\\\\n",
    "0 & 0 & 0 & 4\n",
    "\\end{pmatrix}\n",
    "$$\n",
    "Матрица $L$:\n",
    "$$\n",
    "\\begin{pmatrix}\n",
    "1 & 0 & 0 & 0 \\\\ \n",
    "l_{21} & 1 & 0 & 0 \\\\ \n",
    "l_{31} & l_{32} & 1 & 0\\\\ \n",
    "l_{41} & l_{42} & l_{43} & 1\n",
    "\\end{pmatrix} \\sim\n",
    "\\begin{pmatrix}\n",
    "1 & 0 & 0 & 0 \\\\ \n",
    "2 & 1 & 0 & 0 \\\\ \n",
    "3 & l_{32} & 1 & 0\\\\ \n",
    "4 & l_{42} & l_{43} & 1\n",
    "\\end{pmatrix} \\sim\n",
    "\\begin{pmatrix}\n",
    "1 & 0 & 0 & 0 \\\\ \n",
    "2 & 1 & 0 & 0 \\\\ \n",
    "3 & 5 & 1 & 0\\\\ \n",
    "4 & 6 & l_{43} & 1\n",
    "\\end{pmatrix} \\sim \n",
    "\\begin{pmatrix}\n",
    "1 & 0 & 0 & 0 \\\\ \n",
    "2 & 1 & 0 & 0 \\\\ \n",
    "3 & 5 & 1 & 0\\\\ \n",
    "4 & 6 & 7 & 1\n",
    "\\end{pmatrix}\n",
    "$$"
   ]
  },
  {
   "cell_type": "markdown",
   "id": "68f8bb2b",
   "metadata": {},
   "source": [
    "№3"
   ]
  },
  {
   "cell_type": "markdown",
   "id": "c6022238",
   "metadata": {},
   "source": [
    "b = (1, -6, -5)"
   ]
  },
  {
   "cell_type": "code",
   "execution_count": 5,
   "id": "099997c1",
   "metadata": {},
   "outputs": [],
   "source": [
    "from scipy.linalg import lu"
   ]
  },
  {
   "cell_type": "code",
   "execution_count": 11,
   "id": "c9b04ee5",
   "metadata": {},
   "outputs": [],
   "source": [
    "A = [[2, 1, 3],[11, 7, 5],[9, 8, 4]]\n",
    "b = 1, -6, -5"
   ]
  },
  {
   "cell_type": "code",
   "execution_count": 8,
   "id": "f7a882e6",
   "metadata": {},
   "outputs": [],
   "source": [
    "P, L, U = lu(A)"
   ]
  },
  {
   "cell_type": "code",
   "execution_count": 9,
   "id": "5ba39857",
   "metadata": {},
   "outputs": [
    {
     "data": {
      "text/plain": [
       "array([[ 1.        ,  0.        ,  0.        ],\n",
       "       [ 0.81818182,  1.        ,  0.        ],\n",
       "       [ 0.18181818, -0.12      ,  1.        ]])"
      ]
     },
     "execution_count": 9,
     "metadata": {},
     "output_type": "execute_result"
    }
   ],
   "source": [
    "L"
   ]
  },
  {
   "cell_type": "code",
   "execution_count": 10,
   "id": "a8704346",
   "metadata": {},
   "outputs": [
    {
     "data": {
      "text/plain": [
       "array([[11.        ,  7.        ,  5.        ],\n",
       "       [ 0.        ,  2.27272727, -0.09090909],\n",
       "       [ 0.        ,  0.        ,  2.08      ]])"
      ]
     },
     "execution_count": 10,
     "metadata": {},
     "output_type": "execute_result"
    }
   ],
   "source": [
    "U"
   ]
  },
  {
   "cell_type": "markdown",
   "id": "0c37d156",
   "metadata": {},
   "source": [
    "$Ly=b:$"
   ]
  },
  {
   "cell_type": "code",
   "execution_count": 13,
   "id": "8ea8fdf9",
   "metadata": {},
   "outputs": [
    {
     "data": {
      "text/plain": [
       "array([ 1.        , -6.81818182, -6.        ])"
      ]
     },
     "execution_count": 13,
     "metadata": {},
     "output_type": "execute_result"
    }
   ],
   "source": [
    "y = np.linalg.solve(L, b)\n",
    "y"
   ]
  },
  {
   "cell_type": "code",
   "execution_count": 14,
   "id": "3f552b82",
   "metadata": {},
   "outputs": [
    {
     "data": {
      "text/plain": [
       "array([ 3.38461538, -3.11538462, -2.88461538])"
      ]
     },
     "execution_count": 14,
     "metadata": {},
     "output_type": "execute_result"
    }
   ],
   "source": [
    "x = np.linalg.solve(U, y)\n",
    "x"
   ]
  },
  {
   "cell_type": "code",
   "execution_count": 15,
   "id": "13680047",
   "metadata": {},
   "outputs": [
    {
     "data": {
      "text/plain": [
       "array([-5.,  1., -6.])"
      ]
     },
     "execution_count": 15,
     "metadata": {},
     "output_type": "execute_result"
    }
   ],
   "source": [
    "np.dot(A, x)"
   ]
  },
  {
   "cell_type": "markdown",
   "id": "ffae403e",
   "metadata": {},
   "source": [
    "№5"
   ]
  },
  {
   "cell_type": "markdown",
   "id": "255edf35",
   "metadata": {},
   "source": [
    "https://github.com/Setom29/Programming/tree/master/Numerical%20methods/py_numerical_methods/num_methods_with_numpy"
   ]
  }
 ],
 "metadata": {
  "kernelspec": {
   "display_name": "Python 3 (ipykernel)",
   "language": "python",
   "name": "python3"
  },
  "language_info": {
   "codemirror_mode": {
    "name": "ipython",
    "version": 3
   },
   "file_extension": ".py",
   "mimetype": "text/x-python",
   "name": "python",
   "nbconvert_exporter": "python",
   "pygments_lexer": "ipython3",
   "version": "3.9.7"
  }
 },
 "nbformat": 4,
 "nbformat_minor": 5
}
