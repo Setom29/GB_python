{
 "cells": [
  {
   "cell_type": "code",
   "execution_count": 18,
   "id": "2af89c65",
   "metadata": {},
   "outputs": [],
   "source": [
    "import numpy as np"
   ]
  },
  {
   "cell_type": "markdown",
   "id": "686d7504",
   "metadata": {},
   "source": [
    "\n",
    "\n",
    "\n",
    "\n",
    "__1.__ Найдите собственные векторы и собственные значения для линейного оператора, заданного матрицей:\n",
    "\n",
    "$$A=\\begin{pmatrix}\n",
    "-1 & -6\\\\ \n",
    "2 & 6\n",
    "\\end{pmatrix}.$$\n",
    "\n",
    "__2.__ Дан оператор поворота на 180 градусов, задаваемый матрицей:\n",
    "\n",
    "$$A=\\begin{pmatrix}\n",
    "-1 & 0\\\\ \n",
    "0 & -1\n",
    "\\end{pmatrix}.$$\n",
    "\n",
    "Покажите, что __любой__ вектор считается для него собственным.\n",
    "\n",
    "__3.__ Пусть линейный оператор задан матрицей:\n",
    "\n",
    "$$A=\\begin{pmatrix}\n",
    "1 & 1\\\\ \n",
    "-1 & 3\n",
    "\\end{pmatrix}.$$\n",
    "\n",
    "Установите, считается ли вектор $x=(1,1)$ собственным вектором этого линейного оператора.\n",
    "\n",
    "**4.** Пусть линейный оператор задан матрицей:\n",
    "\n",
    "$$A=\\begin{pmatrix} 0 & 3 & 0\\\\ 3 & 0 & 0\\\\ 0 & 0 & 3 \\end{pmatrix}.$$\n",
    "\n",
    "Установите, считается ли вектор $x=(3, -3, -4)$ собственным вектором этого линейного оператора."
   ]
  },
  {
   "cell_type": "markdown",
   "id": "c538a78e",
   "metadata": {},
   "source": [
    "№1"
   ]
  },
  {
   "cell_type": "markdown",
   "id": "038d0e6c",
   "metadata": {},
   "source": [
    "$$\n",
    "A=\\begin{pmatrix}\n",
    "-1 & -6\\\\ \n",
    "2 & 6\n",
    "\\end{pmatrix} \n",
    "\\newline\n",
    "|A - \\lambda E| = 0 =>\n",
    "\\begin{vmatrix}\n",
    "-1 - \\lambda & -6\\\\ \n",
    "2 & 6 - \\lambda\n",
    "\\end{vmatrix} = -6 - 5\\lambda + \\lambda^2 + 12 = \n",
    "\\lambda^2 - 5\\lambda + 6 = (\\lambda - 2)(\\lambda - 3) = 0 \n",
    "\\newline\n",
    "\\begin{cases}\n",
    "\\lambda_1 = 2\n",
    "\\\\\n",
    "\\lambda_2 = 3\n",
    "\\end{cases}\n",
    "$$\n",
    "\n",
    "Найдем собственные вектор матрицы $A$ соответствующий собственному значению $\\lambda_1 = 2$:  \n",
    "\n",
    "$$\n",
    "\\begin{pmatrix}\n",
    "-1 & -6\\\\ \n",
    "2 & 6\n",
    "\\end{pmatrix} \n",
    "\\begin{pmatrix}\n",
    "x_{1}\\\\ \n",
    "x_{2}\n",
    "\\end{pmatrix} = \n",
    "2\\begin{pmatrix}\n",
    "x_{1}\\\\ \n",
    "x_{2}\n",
    "\\end{pmatrix} =>\n",
    "\\begin{cases}\n",
    "-3 x_1 - 6 x_2 = 0\n",
    "\\\\\n",
    "2 x_1 + 4 x_2 = 0\n",
    "\\end{cases} =>\n",
    "x_1 = -2x_2\n",
    "$$\n",
    "Тогда собственный вектор соответствующий собственному значению $\\lambda_1 = 2$ будет равен $v1 = \n",
    "\\begin{pmatrix}\n",
    "-2\\\\ \n",
    "1\n",
    "\\end{pmatrix}$\n",
    "\n",
    "Найдем собственные вектор матрицы $A$ соответствующий собственному значению $\\lambda_2 = 3$:  \n",
    "$$\n",
    "\\begin{pmatrix}\n",
    "-1 & -6\\\\ \n",
    "2 & 6\n",
    "\\end{pmatrix} \n",
    "\\begin{pmatrix}\n",
    "x_{1}\\\\ \n",
    "x_{2}\n",
    "\\end{pmatrix} = \n",
    "3\\begin{pmatrix}\n",
    "x_{1}\\\\ \n",
    "x_{2}\n",
    "\\end{pmatrix} =>\n",
    "\\begin{cases}\n",
    "-4 x_1 - 6 x_2 = 0\n",
    "\\\\\n",
    "2 x_1 + 3 x_2 = 0\n",
    "\\end{cases} =>\n",
    "x_1 = -1.5x_2\n",
    "$$\n",
    "Найдем собственные вектор матрицы $A$ соответствующий собственному значению $\\lambda_2 = 3:  \n",
    "\\begin{pmatrix}\n",
    "1.5\\\\ \n",
    "-1\n",
    "\\end{pmatrix}$"
   ]
  },
  {
   "cell_type": "markdown",
   "id": "b39d7e17",
   "metadata": {},
   "source": [
    "№2"
   ]
  },
  {
   "cell_type": "markdown",
   "id": "bed2b1c8",
   "metadata": {},
   "source": [
    "$$A=\\begin{pmatrix}\n",
    "-1 & 0\\\\ \n",
    "0 & -1\n",
    "\\end{pmatrix}.$$"
   ]
  },
  {
   "cell_type": "markdown",
   "id": "fbc0f584",
   "metadata": {},
   "source": [
    "Собственные значения данной матрицы будут равны $\\lambda_1 = \\lambda_2 = -1$"
   ]
  },
  {
   "cell_type": "markdown",
   "id": "8eb6569f",
   "metadata": {},
   "source": [
    "Тогда собственные векторы данной матрицы будут иметь вид:\n",
    "$$\n",
    "v1 = \\begin{pmatrix}\n",
    "x_1 = 0\\\\\n",
    "x_2 \\in R\n",
    "\\end{pmatrix}\n",
    "\\newline\n",
    "v2 = \\begin{pmatrix}\n",
    "x_1 \\in R\\\\\n",
    "x_2 = 0\n",
    "\\end{pmatrix}\n",
    "$$\n"
   ]
  },
  {
   "cell_type": "code",
   "execution_count": 20,
   "id": "01add062",
   "metadata": {},
   "outputs": [
    {
     "data": {
      "text/plain": [
       "array([-3, -4])"
      ]
     },
     "execution_count": 20,
     "metadata": {},
     "output_type": "execute_result"
    }
   ],
   "source": [
    "np.dot([[-1, 0], [0, -1]], [3, 4])"
   ]
  },
  {
   "cell_type": "markdown",
   "id": "a902f3d2",
   "metadata": {},
   "source": [
    "№3"
   ]
  },
  {
   "cell_type": "code",
   "execution_count": 32,
   "id": "5bdfc37c",
   "metadata": {},
   "outputs": [
    {
     "name": "stdout",
     "output_type": "stream",
     "text": [
      "Собственные значения: [2. 2.]\n"
     ]
    },
    {
     "data": {
      "text/plain": [
       "array([2, 2])"
      ]
     },
     "execution_count": 32,
     "metadata": {},
     "output_type": "execute_result"
    }
   ],
   "source": [
    "A =[[1, 1], [-1, 3]]\n",
    "print(\"Собственные значения:\", np.round(np.linalg.eigvals(A), 2))\n",
    "np.dot(A, [1, 1])"
   ]
  },
  {
   "cell_type": "markdown",
   "id": "d1dd0d78",
   "metadata": {},
   "source": [
    "$A x = \\lambda x => $ данный вектор является собственным для данной матрицы."
   ]
  },
  {
   "cell_type": "markdown",
   "id": "b0e3db8f",
   "metadata": {},
   "source": [
    "№4"
   ]
  },
  {
   "cell_type": "code",
   "execution_count": 35,
   "id": "f82f05ba",
   "metadata": {},
   "outputs": [
    {
     "name": "stdout",
     "output_type": "stream",
     "text": [
      "Собственные значения: [ 3. -3.  3.]\n"
     ]
    },
    {
     "data": {
      "text/plain": [
       "array([ -9,   9, -12])"
      ]
     },
     "execution_count": 35,
     "metadata": {},
     "output_type": "execute_result"
    }
   ],
   "source": [
    "A =[[0, 3, 0],[3, 0, 0],[0, 0, 3]]\n",
    "print(\"Собственные значения:\", np.round(np.linalg.eigvals(A), 2))\n",
    "np.dot(A, [3, -3, -4])"
   ]
  },
  {
   "cell_type": "markdown",
   "id": "b3273179",
   "metadata": {},
   "source": [
    "Данный вектор не является собственным."
   ]
  },
  {
   "cell_type": "code",
   "execution_count": 38,
   "id": "165be31b",
   "metadata": {},
   "outputs": [
    {
     "data": {
      "text/plain": [
       "(array([-3.,  3.,  3.]),\n",
       " array([[-0.70710678,  0.70710678,  0.        ],\n",
       "        [ 0.70710678,  0.70710678,  0.        ],\n",
       "        [ 0.        ,  0.        ,  1.        ]]))"
      ]
     },
     "execution_count": 38,
     "metadata": {},
     "output_type": "execute_result"
    }
   ],
   "source": [
    "np.linalg.eigh(A)"
   ]
  }
 ],
 "metadata": {
  "kernelspec": {
   "display_name": "Python 3 (ipykernel)",
   "language": "python",
   "name": "python3"
  },
  "language_info": {
   "codemirror_mode": {
    "name": "ipython",
    "version": 3
   },
   "file_extension": ".py",
   "mimetype": "text/x-python",
   "name": "python",
   "nbconvert_exporter": "python",
   "pygments_lexer": "ipython3",
   "version": "3.9.7"
  }
 },
 "nbformat": 4,
 "nbformat_minor": 5
}
