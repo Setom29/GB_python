{
 "cells": [
  {
   "cell_type": "markdown",
   "id": "11c55a5b",
   "metadata": {},
   "source": [
    "_1.__ Исследовать на линейную зависимость:\n",
    "\n",
    "$$f_{1}(x)=e^{x}, f_{2}(x)=1, f_{3}(x)=x+1, f_{4}(x)=x-e^{x}.$$\n"
   ]
  },
  {
   "cell_type": "markdown",
   "id": "ae02195c",
   "metadata": {},
   "source": [
    "Вектор $f_{4}(x)$ является линейной комбинацией остальных векторов: $f_{4}(x) == f_{3}(x) - f_{2}(x) - f_{1}(x) => $ данные вектора линейно зависимы."
   ]
  },
  {
   "cell_type": "markdown",
   "id": "6808a62a",
   "metadata": {},
   "source": [
    "__2.__ Исследовать на линейную зависимость:\n",
    "$$f_{1}(x)=2, f_{2}(x)=x, f_{3}(x)=x^{2}, f_{4}(x)=(x+1)^{2}$$"
   ]
  },
  {
   "cell_type": "markdown",
   "id": "cf86e64f",
   "metadata": {},
   "source": [
    "Вектор $f_{4}(x)$ является линейной комбинацией остальных векторов: $f_{4}(x) == x^2 + 2x + 1 == f_{3}(x) + f_{2}(x) * f_{1}(x) + \\frac{f_{1}(x)}{2} => $ данные вектора линейно зависимы."
   ]
  },
  {
   "cell_type": "markdown",
   "id": "e93190ab",
   "metadata": {},
   "source": [
    "__3.__ Найти координаты вектора $x = (2, 3, 5)\\in \\mathbb{R}^{3}$ в базисе $b_{1}=(0, 0, 10)$, $b_{2}=(2, 0, 0)$, $b_{3}=(0, 1, 0)$.\n"
   ]
  },
  {
   "cell_type": "markdown",
   "id": "c226a724",
   "metadata": {},
   "source": [
    "$$x = (2, 3, 5)_{\\mathbb{R}^{3}} = b_2 + 3b_3 + \\frac{b_1}{2}$$"
   ]
  },
  {
   "cell_type": "markdown",
   "id": "1444717e",
   "metadata": {},
   "source": [
    "##__4.__ Найти координаты вектора $3x^{2}-2x+2\\in\\mathbb{R}^{3}[x]$:\n",
    "\n",
    "а) в базисе $1$, $x$, $x^{2}$;\n",
    "\n",
    "б) в базисе $x^{2}$, $x-1$, $1$."
   ]
  },
  {
   "cell_type": "markdown",
   "id": "16455850",
   "metadata": {},
   "source": [
    "$$a) \\quad e_1 = 1,\\, e_2 = x,\\, e_3 = x^2 => x = 3 e_3 - 2 e_2 + 2 e_1$$\n",
    "$$b) \\quad e_1 = x^2,\\, e_2 = x-1,\\, e_3 = 1 => x = 3 e_1 - 2 e_2$$"
   ]
  },
  {
   "cell_type": "markdown",
   "id": "0c33d77b",
   "metadata": {},
   "source": [
    "__1.__ Найти скалярное произведение векторов $x, y \\in \\mathbb{R}$:<br>\n",
    "а) $x=(0,-3, 6),~y=(-4, 7, 9);$<br>\n",
    "б) $x=(7, -4, 0, 1),~y=(-3, 1, 11, 2).$\n",
    "\n",
    "__2.__ Найти нормы векторов $(4, 2, 4)$ и $(12, 3, 4)$ и угол между ними.\n",
    "\n",
    "__3.__ Будет ли линейное пространство евклидовым, если за скалярное произведение принять:<br>\n",
    "а) произведение длин векторов;<br>\n",
    "б) утроенное обычное скалярное произведение векторов?<br>\n",
    "      \n",
    "__4.__ Какие из нижеперечисленных векторов образуют ортонормированный базис в линейном пространстве $\\mathbb{R}^{3}$:<br>\n",
    "а) $(1,0,0),(0,0,1);$ <br>\n",
    "б) $(1/\\sqrt{2},-1/\\sqrt{2},0),(1/\\sqrt{2},1/\\sqrt{2},0), (0,0,1);$<br>\n",
    "в) $(1/2, -1/2, 0), (0, 1/2, 1/2), (0,0,1);$<br>\n",
    "г) $(1,0,0),(0,1,0),(0,0,1)?$ \n"
   ]
  },
  {
   "cell_type": "code",
   "execution_count": 1,
   "id": "9a5d9469",
   "metadata": {},
   "outputs": [],
   "source": [
    "import numpy as np"
   ]
  },
  {
   "cell_type": "markdown",
   "id": "f05aa6ab",
   "metadata": {},
   "source": [
    "1.a)"
   ]
  },
  {
   "cell_type": "code",
   "execution_count": 2,
   "id": "a6703228",
   "metadata": {},
   "outputs": [
    {
     "data": {
      "text/plain": [
       "33"
      ]
     },
     "execution_count": 2,
     "metadata": {},
     "output_type": "execute_result"
    }
   ],
   "source": [
    "x = np.array([0, -3, 6])\n",
    "y = np.array([-4, 7, 9])\n",
    "\n",
    "np.dot(x, y)"
   ]
  },
  {
   "cell_type": "markdown",
   "id": "4b99b70d",
   "metadata": {},
   "source": [
    "1.b)"
   ]
  },
  {
   "cell_type": "code",
   "execution_count": 3,
   "id": "c2eb7f64",
   "metadata": {},
   "outputs": [
    {
     "data": {
      "text/plain": [
       "-23"
      ]
     },
     "execution_count": 3,
     "metadata": {},
     "output_type": "execute_result"
    }
   ],
   "source": [
    "x = np.array([7, -4, 0, 1])\n",
    "y = np.array([-3, 1, 11, 2])\n",
    "\n",
    "np.dot(x, y)"
   ]
  },
  {
   "cell_type": "markdown",
   "id": "78870a4f",
   "metadata": {},
   "source": [
    "2)"
   ]
  },
  {
   "cell_type": "code",
   "execution_count": 4,
   "id": "be321677",
   "metadata": {},
   "outputs": [
    {
     "name": "stdout",
     "output_type": "stream",
     "text": [
      "Нормы векторов соответственно равны: 6.0 и 13.0\n",
      "Косинус угла между векторами равен: -0.3333333333333333\n",
      "Угол между векторами: 1.9106332362490186 Pi\n"
     ]
    }
   ],
   "source": [
    "x = np.array([4, 2, 4])\n",
    "y = np.array([-12, 3, 4])\n",
    "\n",
    "x_norm = np.linalg.norm(x)\n",
    "y_norm = np.linalg.norm(y)\n",
    "x_y_scal_mult = np.dot(x, y) / (x_norm * y_norm)\n",
    "print('Нормы векторов соответственно равны:', x_norm, 'и', y_norm)\n",
    "print(\"Косинус угла между векторами равен:\", x_y_scal_mult)\n",
    "print('Угол между векторами:', np.arccos(x_y_scal_mult), 'Pi')"
   ]
  },
  {
   "cell_type": "markdown",
   "id": "9e5bdcab",
   "metadata": {},
   "source": [
    "3)"
   ]
  },
  {
   "cell_type": "markdown",
   "id": "fac0e9b1",
   "metadata": {},
   "source": [
    "Линейное пространство над полем вещественных чисел называется _евклидовым пространством_, если на нем введено правило, согласно которому каждой упорядоченной паре векторов $x$ и $y$ поставлено в соответствие вещественное число, называемое _скалярным произведением_ и обозначаемое символом $(x, y)$.\n",
    "\n",
    "При этом указанное правило должно подчиняться четырем аксиомам:<br>\n",
    "1) $(x,y)=(y,x);$<br>\n",
    "2) $(\\lambda x, y)=\\lambda(x, y);$<br>\n",
    "3) $(x_{1}+x_{2},y)=(x_{1},y)+(x_{2},y);$<br>\n",
    "4) $(x, x)\\geq0$, причем $(x,x)=0\\Leftrightarrow x=0.$\n",
    "\n"
   ]
  },
  {
   "cell_type": "markdown",
   "id": "fd1b3954",
   "metadata": {},
   "source": [
    "3.a)"
   ]
  },
  {
   "cell_type": "markdown",
   "id": "466bc555",
   "metadata": {},
   "source": [
    "$$\n",
    "    (x_1 + x_2,y) =\n",
    "    \\sqrt{\\sum_{i=1}^{n} (x_1^i + x_2^i)^2} * \\sqrt{\\sum_{i=1}^{n} (y^i)^2} \n",
    "    \\neq \\sqrt{\\sum_{i=1}^{n} (x_1^i)^2\\cdot \\sum_{i=1}^{n} (y^i)^2} + \\sqrt{\\sum_{i=1}^{n} (x_2^i)^2 *               \\sum_{i=1}^{n} (y^i)^2} = (x_1, y) + (x_2, y)\n",
    "$$\n",
    "\n",
    "Из-за невыполнения 3 аксиомы данное скалярное произведение не задает евклидово пространство. "
   ]
  },
  {
   "cell_type": "markdown",
   "id": "9823544a",
   "metadata": {},
   "source": [
    "$$(x,y) = 3|x| \\cdot |y| \\cdot cos a$$"
   ]
  },
  {
   "cell_type": "markdown",
   "id": "34daf9ce",
   "metadata": {},
   "source": [
    "$$\n",
    "    (x_1 + x_2,y) =\n",
    "    \\sum_{i=1}^{n} (x_1^i + x_2^i)(y^i) =\n",
    "    \\sum_{i=1}^{n} x_1^i \\cdot y^i + \\sum_{i=1}^{n} x_2^i \\cdot y^i = (x_1, y) + (x_2, y)\n",
    "$$"
   ]
  },
  {
   "cell_type": "markdown",
   "id": "91cb23d8",
   "metadata": {},
   "source": [
    "Остальные аксиомы также верны для данного скалярного произведения, а значит оно задает евклидово пространство."
   ]
  },
  {
   "cell_type": "markdown",
   "id": "22d5cf65",
   "metadata": {},
   "source": [
    "4.a) Образуют ортонормированный базис:"
   ]
  },
  {
   "cell_type": "code",
   "execution_count": 5,
   "id": "0acc22ee",
   "metadata": {},
   "outputs": [
    {
     "data": {
      "text/plain": [
       "0"
      ]
     },
     "execution_count": 5,
     "metadata": {},
     "output_type": "execute_result"
    }
   ],
   "source": [
    "np.dot([1,0,0],[0,0,1])"
   ]
  },
  {
   "cell_type": "markdown",
   "id": "c600a2cd",
   "metadata": {},
   "source": [
    "4.б) Образуют ортонормированный базис:"
   ]
  },
  {
   "cell_type": "code",
   "execution_count": 6,
   "id": "6618228c",
   "metadata": {},
   "outputs": [],
   "source": [
    "x, y, z = (1 / np.sqrt(2), -1 / np.sqrt(2), 0), (1 / np.sqrt(2), 1 / np.sqrt(2),0), (0,0,1)"
   ]
  },
  {
   "cell_type": "code",
   "execution_count": 7,
   "id": "dd82a4a6",
   "metadata": {},
   "outputs": [
    {
     "name": "stdout",
     "output_type": "stream",
     "text": [
      "0.0 | 0.0 | 0.0\n"
     ]
    }
   ],
   "source": [
    "print(np.dot(x, y), '|', np.dot(x, z), '|', np.dot(y, z))"
   ]
  },
  {
   "cell_type": "markdown",
   "id": "6a5376c9",
   "metadata": {},
   "source": [
    "4.в) Не образуют ортонормированный базис:"
   ]
  },
  {
   "cell_type": "code",
   "execution_count": 8,
   "id": "dac9cdc8",
   "metadata": {},
   "outputs": [
    {
     "name": "stdout",
     "output_type": "stream",
     "text": [
      "-0.25 | 0.0 | 0.5\n"
     ]
    }
   ],
   "source": [
    "x, y, z = (1 / 2, -1 / 2, 0),(0, 1 / 2, 1 / 2), (0, 0, 1) \n",
    "print(np.dot(x, y), '|', np.dot(x, z), '|', np.dot(y, z))"
   ]
  },
  {
   "cell_type": "markdown",
   "id": "9de35ec4",
   "metadata": {},
   "source": [
    "4.г) Это ортогональный нормированный базис в $R_3$."
   ]
  }
 ],
 "metadata": {
  "kernelspec": {
   "display_name": "Python 3 (ipykernel)",
   "language": "python",
   "name": "python3"
  },
  "language_info": {
   "codemirror_mode": {
    "name": "ipython",
    "version": 3
   },
   "file_extension": ".py",
   "mimetype": "text/x-python",
   "name": "python",
   "nbconvert_exporter": "python",
   "pygments_lexer": "ipython3",
   "version": "3.9.7"
  }
 },
 "nbformat": 4,
 "nbformat_minor": 5
}
