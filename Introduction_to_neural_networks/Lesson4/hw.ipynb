{
 "cells": [
  {
   "cell_type": "markdown",
   "id": "2bdaed34",
   "metadata": {},
   "source": [
    "## Практическое задание\n",
    "\n",
    "<ol>\n",
    "    <li>обучить рукописную сверточную нейронную сеть (с падением размера ядра свертки и последовательностью блоков свертка-пулинг (conv-pool)-(conv-pool)-...) на датасете cifar-10\n",
    "    </li>\n",
    "    <li>\n",
    "        оценить рост точности при увеличении ширины сети (больше фильтров)\n",
    "    </li>\n",
    "    <li>\n",
    "        оценить рост точности при увеличении глубины сети (больше слоев)\n",
    "    </li>\n",
    "    <li>\n",
    "        *сравнить с точностью полносвязной сети для этой выборки\n",
    "    </li>\n",
    "</ol>"
   ]
  },
  {
   "cell_type": "code",
   "execution_count": 18,
   "id": "b254c8f7",
   "metadata": {},
   "outputs": [],
   "source": [
    "from tensorflow.keras.datasets import cifar10\n",
    "from tensorflow.keras.preprocessing.image import ImageDataGenerator\n",
    "from tensorflow.keras.utils import to_categorical\n",
    "from tensorflow.keras.models import Sequential\n",
    "from tensorflow.keras.layers import Dense, Dropout, Activation, Flatten\n",
    "from tensorflow.keras.layers import Conv2D, MaxPooling2D\n",
    "import os\n",
    "import keras"
   ]
  },
  {
   "cell_type": "code",
   "execution_count": 19,
   "id": "0aa73977",
   "metadata": {},
   "outputs": [],
   "source": [
    "classes = ['самолет', 'автомобиль', 'птица', 'кот', 'олень', 'собака', 'лягушка', 'лошадь', 'корабль', 'грузовик']"
   ]
  },
  {
   "cell_type": "code",
   "execution_count": 20,
   "id": "ecd0cbcd",
   "metadata": {},
   "outputs": [
    {
     "name": "stderr",
     "output_type": "stream",
     "text": [
      "C:\\ProgramData\\Anaconda3\\lib\\site-packages\\keras\\optimizers\\optimizer_v2\\rmsprop.py:143: UserWarning: The `lr` argument is deprecated, use `learning_rate` instead.\n",
      "  super().__init__(name, **kwargs)\n"
     ]
    },
    {
     "name": "stdout",
     "output_type": "stream",
     "text": [
      "X_train shape: (50000, 32, 32, 3)\n",
      "50000 тренировочные примеры\n",
      "10000 тестовые примеры\n"
     ]
    }
   ],
   "source": [
    "# установка параметров нейросети\n",
    "batch_size = 32\n",
    "num_classes = 10\n",
    "epochs = 1\n",
    "data_augmentation = True\n",
    "num_predictions = 20\n",
    "opt = keras.optimizers.RMSprop(lr=0.0001, decay=1e-6)\n",
    "save_dir = os.path.join(os.getcwd(), 'saved_models')\n",
    "model_name = 'keras_cifar10_trained_model.h5'\n",
    "\n",
    "# разделение тренировочной и тестовой выборки\n",
    "(X_train, y_train), (X_test, y_test) = cifar10.load_data()\n",
    "print('X_train shape:', X_train.shape)\n",
    "print(X_train.shape[0], 'тренировочные примеры')\n",
    "print(X_test.shape[0], 'тестовые примеры')\n",
    "\n",
    "# преобразование матрицы чисел 0-9 в бинарную матрицу чисел 0-1\n",
    "y_train = to_categorical(y_train, num_classes)\n",
    "y_test = to_categorical(y_test, num_classes)\n",
    "\n",
    "\n",
    "X_train = X_train / 255.0\n",
    "X_test = X_test / 255.0"
   ]
  },
  {
   "cell_type": "code",
   "execution_count": 21,
   "id": "d0e0243c",
   "metadata": {},
   "outputs": [],
   "source": [
    "results = []"
   ]
  },
  {
   "cell_type": "code",
   "execution_count": 24,
   "id": "d607b92e",
   "metadata": {},
   "outputs": [],
   "source": [
    "def train_models_depth(depth=2, epochs=2):\n",
    "    # конфигурирование слоев нейросети\n",
    "    model = Sequential()\n",
    "\n",
    "    # слои нейросети отвественные за свертку и max-pooling\n",
    "    model.add(Conv2D(32, (3, 3), padding='same', input_shape=X_train.shape[1:]))\n",
    "    model.add(Activation('relu'))\n",
    "    model.add(Conv2D(32, (3, 3)))\n",
    "    model.add(Activation('relu'))\n",
    "    model.add(MaxPooling2D(pool_size=(2, 2)))\n",
    "    model.add(Dropout(0.25))\n",
    "        \n",
    "    for _ in range(depth):\n",
    "        model.add(Conv2D(32,  (3, 3), padding='same'))\n",
    "        model.add(Activation('relu'))\n",
    "        \n",
    "    model.add(Conv2D(64, (3, 3), padding='same'))\n",
    "    model.add(Activation('relu'))\n",
    "    model.add(Conv2D(64, (3, 3)))\n",
    "    model.add(Activation('relu'))\n",
    "    model.add(MaxPooling2D(pool_size=(2, 2)))\n",
    "    model.add(Dropout(0.25))\n",
    "\n",
    "\n",
    "    # полносвязные слои нейронной сети\n",
    "    model.add(Flatten())\n",
    "    model.add(Dense(512))\n",
    "    model.add(Activation('relu'))\n",
    "    model.add(Dropout(0.5))\n",
    "    model.add(Dense(num_classes))\n",
    "    \n",
    "    model.add(Activation('softmax'))\n",
    "    \n",
    "    # компиляция модели\n",
    "    model.compile(loss='categorical_crossentropy',\n",
    "                  optimizer=opt,\n",
    "                  metrics=['accuracy'])\n",
    "    \n",
    "    model.fit(X_train, y_train,\n",
    "          batch_size=batch_size,\n",
    "          epochs=epochs,\n",
    "          validation_data=(X_test, y_test),\n",
    "          shuffle=True)\n",
    "    [loss, accuracy] = model.evaluate(X_test, y_test)\n",
    "    print(\"Test loss {:.4f}, accuracy {:.2f}%\".format(loss, accuracy * 100))\n",
    "    \n",
    "    # накопление результатов\n",
    "    results.append([depth, loss, accuracy])\n",
    "    \n",
    "    return results"
   ]
  },
  {
   "cell_type": "code",
   "execution_count": 25,
   "id": "d674750e",
   "metadata": {},
   "outputs": [
    {
     "name": "stdout",
     "output_type": "stream",
     "text": [
      "Epoch 1/2\n",
      "1563/1563 [==============================] - 107s 68ms/step - loss: 1.8409 - accuracy: 0.3215 - val_loss: 1.5486 - val_accuracy: 0.4290\n",
      "Epoch 2/2\n",
      "1563/1563 [==============================] - 113s 72ms/step - loss: 1.5149 - accuracy: 0.4498 - val_loss: 1.4099 - val_accuracy: 0.4887\n",
      "313/313 [==============================] - 4s 14ms/step - loss: 1.4099 - accuracy: 0.4887\n",
      "Test loss 1.4099, accuracy 48.87%\n",
      "[[2, 1.4099366664886475, 0.4887000024318695]]\n"
     ]
    }
   ],
   "source": [
    "print(train_models_depth())"
   ]
  },
  {
   "cell_type": "code",
   "execution_count": 26,
   "id": "66fb6559",
   "metadata": {},
   "outputs": [
    {
     "name": "stdout",
     "output_type": "stream",
     "text": [
      "Epoch 1/2\n",
      "1563/1563 [==============================] - 128s 81ms/step - loss: 1.8432 - accuracy: 0.3231 - val_loss: 1.5482 - val_accuracy: 0.4398\n",
      "Epoch 2/2\n",
      "1563/1563 [==============================] - 136s 87ms/step - loss: 1.5258 - accuracy: 0.4434 - val_loss: 1.4035 - val_accuracy: 0.4939\n",
      "313/313 [==============================] - 4s 14ms/step - loss: 1.4035 - accuracy: 0.4939\n",
      "Test loss 1.4035, accuracy 49.39%\n",
      "[[2, 1.4099366664886475, 0.4887000024318695], [3, 1.4035063982009888, 0.49390000104904175]]\n"
     ]
    }
   ],
   "source": [
    "print(train_models_depth(3))"
   ]
  },
  {
   "cell_type": "code",
   "execution_count": 28,
   "id": "708cf173",
   "metadata": {},
   "outputs": [
    {
     "name": "stdout",
     "output_type": "stream",
     "text": [
      "Epoch 1/2\n",
      "1563/1563 [==============================] - 159s 101ms/step - loss: 1.8829 - accuracy: 0.3080 - val_loss: 1.7193 - val_accuracy: 0.3749\n",
      "Epoch 2/2\n",
      "1563/1563 [==============================] - 156s 100ms/step - loss: 1.5483 - accuracy: 0.4342 - val_loss: 1.3920 - val_accuracy: 0.4849\n",
      "313/313 [==============================] - 5s 16ms/step - loss: 1.3920 - accuracy: 0.4849\n",
      "Test loss 1.3920, accuracy 48.49%\n",
      "[[2, 1.4099366664886475, 0.4887000024318695], [3, 1.4035063982009888, 0.49390000104904175], [10, 1.5331987142562866, 0.43779999017715454], [5, 1.3920201063156128, 0.48489999771118164]]\n"
     ]
    }
   ],
   "source": [
    "print(train_models_depth(5))"
   ]
  },
  {
   "cell_type": "code",
   "execution_count": null,
   "id": "70a1523e",
   "metadata": {},
   "outputs": [
    {
     "name": "stdout",
     "output_type": "stream",
     "text": [
      "Epoch 1/2\n",
      "1563/1563 [==============================] - 167s 106ms/step - loss: 1.8615 - accuracy: 0.3081 - val_loss: 1.6430 - val_accuracy: 0.3927\n",
      "Epoch 2/2\n",
      "1237/1563 [======================>.......] - ETA: 32s - loss: 1.5707 - accuracy: 0.4255"
     ]
    }
   ],
   "source": [
    "print(train_models_depth(7))"
   ]
  },
  {
   "cell_type": "code",
   "execution_count": 27,
   "id": "1b8ff187",
   "metadata": {},
   "outputs": [
    {
     "name": "stdout",
     "output_type": "stream",
     "text": [
      "Epoch 1/2\n",
      "1563/1563 [==============================] - 215s 137ms/step - loss: 1.9095 - accuracy: 0.2820 - val_loss: 1.7972 - val_accuracy: 0.3484\n",
      "Epoch 2/2\n",
      "1563/1563 [==============================] - 214s 137ms/step - loss: 1.5894 - accuracy: 0.4122 - val_loss: 1.5332 - val_accuracy: 0.4378\n",
      "313/313 [==============================] - 6s 19ms/step - loss: 1.5332 - accuracy: 0.4378\n",
      "Test loss 1.5332, accuracy 43.78%\n",
      "[[2, 1.4099366664886475, 0.4887000024318695], [3, 1.4035063982009888, 0.49390000104904175], [10, 1.5331987142562866, 0.43779999017715454]]\n"
     ]
    }
   ],
   "source": [
    "print(train_models_depth(10))"
   ]
  },
  {
   "cell_type": "code",
   "execution_count": null,
   "id": "1a9d4636",
   "metadata": {},
   "outputs": [],
   "source": []
  }
 ],
 "metadata": {
  "kernelspec": {
   "display_name": "Python 3 (ipykernel)",
   "language": "python",
   "name": "python3"
  },
  "language_info": {
   "codemirror_mode": {
    "name": "ipython",
    "version": 3
   },
   "file_extension": ".py",
   "mimetype": "text/x-python",
   "name": "python",
   "nbconvert_exporter": "python",
   "pygments_lexer": "ipython3",
   "version": "3.9.7"
  }
 },
 "nbformat": 4,
 "nbformat_minor": 5
}
